{
 "cells": [
  {
   "cell_type": "markdown",
   "metadata": {},
   "source": [
    "# Project Euler\n",
    "\n",
    "Problems 11-20 Annotated by Everett Waterman"
   ]
  },
  {
   "cell_type": "code",
   "execution_count": 8,
   "metadata": {},
   "outputs": [],
   "source": [
    "import math\n",
    "import numpy as np"
   ]
  },
  {
   "cell_type": "markdown",
   "metadata": {},
   "source": [
    "Problem 11\n",
    "\n",
    "In the 20×20 grid below, four numbers along a diagonal line have been marked in red.<br>\n",
    "\n",
    "08 02 22 97 38 15 00 40 00 75 04 05 07 78 52 12 50 77 91 08<br>\n",
    "49 49 99 40 17 81 18 57 60 87 17 40 98 43 69 48 04 56 62 00<br>\n",
    "81 49 31 73 55 79 14 29 93 71 40 67 53 88 30 03 49 13 36 65<br>\n",
    "52 70 95 23 04 60 11 42 69 24 68 56 01 32 56 71 37 02 36 91<br>\n",
    "22 31 16 71 51 67 63 89 41 92 36 54 22 40 40 28 66 33 13 80<br>\n",
    "24 47 32 60 99 03 45 02 44 75 33 53 78 36 84 20 35 17 12 50<br>\n",
    "32 98 81 28 64 23 67 10 <span style=\"color:red\">26</span> 38 40 67 59 54 70 66 18 38 64 70<br>\n",
    "67 26 20 68 02 62 12 20 95 <span style=\"color:red\">63</span> 94 39 63 08 40 91 66 49 94 21<br>\n",
    "24 55 58 05 66 73 99 26 97 17 <span style=\"color:red\">78</span> 78 96 83 14 88 34 89 63 72<br>\n",
    "21 36 23 09 75 00 76 44 20 45 35 <span style=\"color:red\">14</span> 00 61 33 97 34 31 33 95<br>\n",
    "78 17 53 28 22 75 31 67 15 94 03 80 04 62 16 14 09 53 56 92<br>\n",
    "16 39 05 42 96 35 31 47 55 58 88 24 00 17 54 24 36 29 85 57<br>\n",
    "86 56 00 48 35 71 89 07 05 44 44 37 44 60 21 58 51 54 17 58<br>\n",
    "19 80 81 68 05 94 47 69 28 73 92 13 86 52 17 77 04 89 55 40<br>\n",
    "04 52 08 83 97 35 99 16 07 97 57 32 16 26 26 79 33 27 98 66<br>\n",
    "88 36 68 87 57 62 20 72 03 46 33 67 46 55 12 32 63 93 53 69<br>\n",
    "04 42 16 73 38 25 39 11 24 94 72 18 08 46 29 32 40 62 76 36<br>\n",
    "20 69 36 41 72 30 23 88 34 62 99 69 82 67 59 85 74 04 36 16<br>\n",
    "20 73 35 29 78 31 90 01 74 31 49 71 48 86 81 16 23 57 05 54<br>\n",
    "01 70 54 71 83 51 54 69 16 92 33 48 61 43 52 01 89 19 67 48<br>\n",
    "\n",
    "The product of these numbers is 26 × 63 × 78 × 14 = 1788696.<br>\n",
    "\n",
    "What is the greatest product of four adjacent numbers in the same direction (up, down, left, right, or diagonally) in the 20×20 grid?"
   ]
  },
  {
   "cell_type": "code",
   "execution_count": 1,
   "metadata": {},
   "outputs": [],
   "source": [
    "largegrid = '\\\n",
    "08 02 22 97 38 15 00 40 00 75 04 05 07 78 52 12 50 77 91 08 \\\n",
    "49 49 99 40 17 81 18 57 60 87 17 40 98 43 69 48 04 56 62 00 \\\n",
    "81 49 31 73 55 79 14 29 93 71 40 67 53 88 30 03 49 13 36 65 \\\n",
    "52 70 95 23 04 60 11 42 69 24 68 56 01 32 56 71 37 02 36 91 \\\n",
    "22 31 16 71 51 67 63 89 41 92 36 54 22 40 40 28 66 33 13 80 \\\n",
    "24 47 32 60 99 03 45 02 44 75 33 53 78 36 84 20 35 17 12 50 \\\n",
    "32 98 81 28 64 23 67 10 26 38 40 67 59 54 70 66 18 38 64 70 \\\n",
    "67 26 20 68 02 62 12 20 95 63 94 39 63 08 40 91 66 49 94 21 \\\n",
    "24 55 58 05 66 73 99 26 97 17 78 78 96 83 14 88 34 89 63 72 \\\n",
    "21 36 23 09 75 00 76 44 20 45 35 14 00 61 33 97 34 31 33 95 \\\n",
    "78 17 53 28 22 75 31 67 15 94 03 80 04 62 16 14 09 53 56 92 \\\n",
    "16 39 05 42 96 35 31 47 55 58 88 24 00 17 54 24 36 29 85 57 \\\n",
    "86 56 00 48 35 71 89 07 05 44 44 37 44 60 21 58 51 54 17 58 \\\n",
    "19 80 81 68 05 94 47 69 28 73 92 13 86 52 17 77 04 89 55 40 \\\n",
    "04 52 08 83 97 35 99 16 07 97 57 32 16 26 26 79 33 27 98 66 \\\n",
    "88 36 68 87 57 62 20 72 03 46 33 67 46 55 12 32 63 93 53 69 \\\n",
    "04 42 16 73 38 25 39 11 24 94 72 18 08 46 29 32 40 62 76 36 \\\n",
    "20 69 36 41 72 30 23 88 34 62 99 69 82 67 59 85 74 04 36 16 \\\n",
    "20 73 35 29 78 31 90 01 74 31 49 71 48 86 81 16 23 57 05 54 \\\n",
    "01 70 54 71 83 51 54 69 16 92 33 48 61 43 52 01 89 19 67 48 '"
   ]
  },
  {
   "cell_type": "code",
   "execution_count": 10,
   "metadata": {},
   "outputs": [
    {
     "name": "stdout",
     "output_type": "stream",
     "text": [
      "1200\n",
      "60.0\n",
      "8\n"
     ]
    }
   ],
   "source": [
    "print(len(largegrid))\n",
    "print(1200/20)\n",
    "print(int(largegrid[0:3]))"
   ]
  },
  {
   "cell_type": "code",
   "execution_count": 5,
   "metadata": {},
   "outputs": [
    {
     "name": "stdout",
     "output_type": "stream",
     "text": [
      "(20, 20)\n",
      "\n",
      "Look at my pretty array:\n",
      "\n",
      "[[ 8  2 22 97 38 15  0 40  0 75  4  5  7 78 52 12 50 77 91  8]\n",
      " [49 49 99 40 17 81 18 57 60 87 17 40 98 43 69 48  4 56 62  0]\n",
      " [81 49 31 73 55 79 14 29 93 71 40 67 53 88 30  3 49 13 36 65]\n",
      " [52 70 95 23  4 60 11 42 69 24 68 56  1 32 56 71 37  2 36 91]\n",
      " [22 31 16 71 51 67 63 89 41 92 36 54 22 40 40 28 66 33 13 80]\n",
      " [24 47 32 60 99  3 45  2 44 75 33 53 78 36 84 20 35 17 12 50]\n",
      " [32 98 81 28 64 23 67 10 26 38 40 67 59 54 70 66 18 38 64 70]\n",
      " [67 26 20 68  2 62 12 20 95 63 94 39 63  8 40 91 66 49 94 21]\n",
      " [24 55 58  5 66 73 99 26 97 17 78 78 96 83 14 88 34 89 63 72]\n",
      " [21 36 23  9 75  0 76 44 20 45 35 14  0 61 33 97 34 31 33 95]\n",
      " [78 17 53 28 22 75 31 67 15 94  3 80  4 62 16 14  9 53 56 92]\n",
      " [16 39  5 42 96 35 31 47 55 58 88 24  0 17 54 24 36 29 85 57]\n",
      " [86 56  0 48 35 71 89  7  5 44 44 37 44 60 21 58 51 54 17 58]\n",
      " [19 80 81 68  5 94 47 69 28 73 92 13 86 52 17 77  4 89 55 40]\n",
      " [ 4 52  8 83 97 35 99 16  7 97 57 32 16 26 26 79 33 27 98 66]\n",
      " [88 36 68 87 57 62 20 72  3 46 33 67 46 55 12 32 63 93 53 69]\n",
      " [ 4 42 16 73 38 25 39 11 24 94 72 18  8 46 29 32 40 62 76 36]\n",
      " [20 69 36 41 72 30 23 88 34 62 99 69 82 67 59 85 74  4 36 16]\n",
      " [20 73 35 29 78 31 90  1 74 31 49 71 48 86 81 16 23 57  5 54]\n",
      " [ 1 70 54 71 83 51 54 69 16 92 33 48 61 43 52  1 89 19 67 48]]\n"
     ]
    }
   ],
   "source": [
    "arr1 = np.ones((20*20), dtype = int)\n",
    "x = 0\n",
    "y = 0\n",
    "while x < 1200 - 2:\n",
    "    arr1[y]*=int(largegrid[x:x+3])\n",
    "    y+=1\n",
    "    x+=3\n",
    "arr2 = arr1.reshape([20,20])\n",
    "print(arr2.shape)\n",
    "print('\\nLook at my pretty array:\\n')\n",
    "print(arr2)"
   ]
  },
  {
   "cell_type": "code",
   "execution_count": null,
   "metadata": {},
   "outputs": [],
   "source": [
    "print(arr1[399])\n",
    "print(arr2[19,19])"
   ]
  },
  {
   "cell_type": "code",
   "execution_count": 6,
   "metadata": {},
   "outputs": [
    {
     "name": "stdout",
     "output_type": "stream",
     "text": [
      "51267216\n"
     ]
    }
   ],
   "source": [
    "greatestval = 0\n",
    "#we'll start with left/rights\n",
    "for i in range(0,16):\n",
    "    for j in range(0,19):\n",
    "        listy = []\n",
    "        listy += arr2[i,j],arr2[i+1,j],arr2[i+2,j],arr2[i+3,j]\n",
    "        arty = np.array(listy)\n",
    "        if np.prod(arty)>greatestval:\n",
    "            greatestval= np.prod(arty)\n",
    "print(greatestval)"
   ]
  },
  {
   "cell_type": "code",
   "execution_count": 7,
   "metadata": {},
   "outputs": [
    {
     "name": "stdout",
     "output_type": "stream",
     "text": [
      "51267216\n"
     ]
    }
   ],
   "source": [
    "#now up downs\n",
    "for i in range(0,19):\n",
    "    for j in range(0,16):\n",
    "        listy = []\n",
    "        listy += arr2[i,j],arr2[i,j+1],arr2[i,j+2],arr2[i,j+3]\n",
    "        arty = np.array(listy)\n",
    "        if np.prod(arty)>greatestval:\n",
    "            greatestval = np.prod(arty)\n",
    "print(greatestval)"
   ]
  },
  {
   "cell_type": "code",
   "execution_count": 8,
   "metadata": {},
   "outputs": [
    {
     "name": "stdout",
     "output_type": "stream",
     "text": [
      "51267216\n"
     ]
    }
   ],
   "source": [
    "#now leftup to rightdown diagonals\n",
    "for i in range(0,16):\n",
    "    for j in range(0,16):\n",
    "        listy = []\n",
    "        listy += arr2[i,j],arr2[i+1,j+1],arr2[i+2,j+2],arr2[i+3,j+3]\n",
    "        arty = np.array(listy)\n",
    "        if np.prod(arty)>greatestval:\n",
    "            greatestval = np.prod(arty)\n",
    "print(greatestval)"
   ]
  },
  {
   "cell_type": "code",
   "execution_count": 9,
   "metadata": {},
   "outputs": [
    {
     "name": "stdout",
     "output_type": "stream",
     "text": [
      "Answer to problem 11: 70600674\n"
     ]
    }
   ],
   "source": [
    "for i in range(3,19):\n",
    "    for j in range(0,16):\n",
    "        listy = []\n",
    "        listy += arr2[i,j],arr2[i-1,j+1],arr2[i-2,j+2],arr2[i-3,j+3]\n",
    "        arty = np.array(listy)\n",
    "        if np.prod(arty)>greatestval:\n",
    "            greatestval = np.prod(arty)\n",
    "print('Answer to problem 11:', greatestval)"
   ]
  },
  {
   "cell_type": "markdown",
   "metadata": {},
   "source": [
    "Problem 12 \n",
    "\n",
    "The sequence of triangle numbers is generated by adding the natural numbers. So the 7th triangle number would be 1 + 2 + 3 + 4 + 5 + 6 + 7 = 28. The first ten terms would be:\n",
    "\n",
    "1, 3, 6, 10, 15, 21, 28, 36, 45, 55, ...\n",
    "\n",
    "Let us list the factors of the first seven triangle numbers:\n",
    "\n",
    " 1: 1\n",
    " 3: 1,3\n",
    " 6: 1,2,3,6\n",
    "10: 1,2,5,10\n",
    "15: 1,3,5,15\n",
    "21: 1,3,7,21\n",
    "28: 1,2,4,7,14,28\n",
    "We can see that 28 is the first triangle number to have over five divisors.\n",
    "\n",
    "What is the value of the first triangle number to have over five hundred divisors?"
   ]
  },
  {
   "cell_type": "code",
   "execution_count": 14,
   "metadata": {},
   "outputs": [
    {
     "name": "stdout",
     "output_type": "stream",
     "text": [
      "28\n"
     ]
    }
   ],
   "source": [
    "def generatetriangle(input1):\n",
    "    i=1\n",
    "    output = 0\n",
    "    while i<=input1:\n",
    "        output+=i\n",
    "        i+=1\n",
    "    return output\n",
    "print(generatetriangle(7))"
   ]
  },
  {
   "cell_type": "code",
   "execution_count": 2,
   "metadata": {},
   "outputs": [],
   "source": [
    "from functions import divisor_count"
   ]
  },
  {
   "cell_type": "code",
   "execution_count": 5,
   "metadata": {},
   "outputs": [
    {
     "name": "stdout",
     "output_type": "stream",
     "text": [
      "Answer to problem 12: 76576500\n"
     ]
    }
   ],
   "source": [
    "i=1\n",
    "maxnum=0\n",
    "beta=0\n",
    "target = 500\n",
    "while maxnum<target:\n",
    "    beta+=i\n",
    "    alpha=divisor_count(beta)\n",
    "    if alpha>maxnum:\n",
    "        maxnum=alpha\n",
    "    i+=1\n",
    "print(\"Answer to problem 12:\", beta)"
   ]
  },
  {
   "cell_type": "markdown",
   "metadata": {},
   "source": [
    "Problem 13 \n",
    "\n",
    "Work out the first ten digits of the sum of the following one-hundred 50-digit numbers.\n",
    "\n",
    "[List of numbers omitted for readability]"
   ]
  },
  {
   "cell_type": "code",
   "execution_count": 6,
   "metadata": {},
   "outputs": [],
   "source": [
    "addthese = '\\\n",
    "37107287533902102798797998220837590246510135740250\\\n",
    "46376937677490009712648124896970078050417018260538\\\n",
    "74324986199524741059474233309513058123726617309629\\\n",
    "91942213363574161572522430563301811072406154908250\\\n",
    "23067588207539346171171980310421047513778063246676\\\n",
    "89261670696623633820136378418383684178734361726757\\\n",
    "28112879812849979408065481931592621691275889832738\\\n",
    "44274228917432520321923589422876796487670272189318\\\n",
    "47451445736001306439091167216856844588711603153276\\\n",
    "70386486105843025439939619828917593665686757934951\\\n",
    "62176457141856560629502157223196586755079324193331\\\n",
    "64906352462741904929101432445813822663347944758178\\\n",
    "92575867718337217661963751590579239728245598838407\\\n",
    "58203565325359399008402633568948830189458628227828\\\n",
    "80181199384826282014278194139940567587151170094390\\\n",
    "35398664372827112653829987240784473053190104293586\\\n",
    "86515506006295864861532075273371959191420517255829\\\n",
    "71693888707715466499115593487603532921714970056938\\\n",
    "54370070576826684624621495650076471787294438377604\\\n",
    "53282654108756828443191190634694037855217779295145\\\n",
    "36123272525000296071075082563815656710885258350721\\\n",
    "45876576172410976447339110607218265236877223636045\\\n",
    "17423706905851860660448207621209813287860733969412\\\n",
    "81142660418086830619328460811191061556940512689692\\\n",
    "51934325451728388641918047049293215058642563049483\\\n",
    "62467221648435076201727918039944693004732956340691\\\n",
    "15732444386908125794514089057706229429197107928209\\\n",
    "55037687525678773091862540744969844508330393682126\\\n",
    "18336384825330154686196124348767681297534375946515\\\n",
    "80386287592878490201521685554828717201219257766954\\\n",
    "78182833757993103614740356856449095527097864797581\\\n",
    "16726320100436897842553539920931837441497806860984\\\n",
    "48403098129077791799088218795327364475675590848030\\\n",
    "87086987551392711854517078544161852424320693150332\\\n",
    "59959406895756536782107074926966537676326235447210\\\n",
    "69793950679652694742597709739166693763042633987085\\\n",
    "41052684708299085211399427365734116182760315001271\\\n",
    "65378607361501080857009149939512557028198746004375\\\n",
    "35829035317434717326932123578154982629742552737307\\\n",
    "94953759765105305946966067683156574377167401875275\\\n",
    "88902802571733229619176668713819931811048770190271\\\n",
    "25267680276078003013678680992525463401061632866526\\\n",
    "36270218540497705585629946580636237993140746255962\\\n",
    "24074486908231174977792365466257246923322810917141\\\n",
    "91430288197103288597806669760892938638285025333403\\\n",
    "34413065578016127815921815005561868836468420090470\\\n",
    "23053081172816430487623791969842487255036638784583\\\n",
    "11487696932154902810424020138335124462181441773470\\\n",
    "63783299490636259666498587618221225225512486764533\\\n",
    "67720186971698544312419572409913959008952310058822\\\n",
    "95548255300263520781532296796249481641953868218774\\\n",
    "76085327132285723110424803456124867697064507995236\\\n",
    "37774242535411291684276865538926205024910326572967\\\n",
    "23701913275725675285653248258265463092207058596522\\\n",
    "29798860272258331913126375147341994889534765745501\\\n",
    "18495701454879288984856827726077713721403798879715\\\n",
    "38298203783031473527721580348144513491373226651381\\\n",
    "34829543829199918180278916522431027392251122869539\\\n",
    "40957953066405232632538044100059654939159879593635\\\n",
    "29746152185502371307642255121183693803580388584903\\\n",
    "41698116222072977186158236678424689157993532961922\\\n",
    "62467957194401269043877107275048102390895523597457\\\n",
    "23189706772547915061505504953922979530901129967519\\\n",
    "86188088225875314529584099251203829009407770775672\\\n",
    "11306739708304724483816533873502340845647058077308\\\n",
    "82959174767140363198008187129011875491310547126581\\\n",
    "97623331044818386269515456334926366572897563400500\\\n",
    "42846280183517070527831839425882145521227251250327\\\n",
    "55121603546981200581762165212827652751691296897789\\\n",
    "32238195734329339946437501907836945765883352399886\\\n",
    "75506164965184775180738168837861091527357929701337\\\n",
    "62177842752192623401942399639168044983993173312731\\\n",
    "32924185707147349566916674687634660915035914677504\\\n",
    "99518671430235219628894890102423325116913619626622\\\n",
    "73267460800591547471830798392868535206946944540724\\\n",
    "76841822524674417161514036427982273348055556214818\\\n",
    "97142617910342598647204516893989422179826088076852\\\n",
    "87783646182799346313767754307809363333018982642090\\\n",
    "10848802521674670883215120185883543223812876952786\\\n",
    "71329612474782464538636993009049310363619763878039\\\n",
    "62184073572399794223406235393808339651327408011116\\\n",
    "66627891981488087797941876876144230030984490851411\\\n",
    "60661826293682836764744779239180335110989069790714\\\n",
    "85786944089552990653640447425576083659976645795096\\\n",
    "66024396409905389607120198219976047599490197230297\\\n",
    "64913982680032973156037120041377903785566085089252\\\n",
    "16730939319872750275468906903707539413042652315011\\\n",
    "94809377245048795150954100921645863754710598436791\\\n",
    "78639167021187492431995700641917969777599028300699\\\n",
    "15368713711936614952811305876380278410754449733078\\\n",
    "40789923115535562561142322423255033685442488917353\\\n",
    "44889911501440648020369068063960672322193204149535\\\n",
    "41503128880339536053299340368006977710650566631954\\\n",
    "81234880673210146739058568557934581403627822703280\\\n",
    "82616570773948327592232845941706525094512325230608\\\n",
    "22918802058777319719839450180888072429661980811197\\\n",
    "77158542502016545090413245809786882778948721859617\\\n",
    "72107838435069186155435662884062257473692284509516\\\n",
    "20849603980134001723930671666823555245252804609722\\\n",
    "53503534226472524250874054075591789781264330331690'"
   ]
  },
  {
   "cell_type": "code",
   "execution_count": 7,
   "metadata": {},
   "outputs": [
    {
     "name": "stdout",
     "output_type": "stream",
     "text": [
      "5000\n"
     ]
    }
   ],
   "source": [
    "print(len(addthese))"
   ]
  },
  {
   "cell_type": "code",
   "execution_count": 8,
   "metadata": {},
   "outputs": [
    {
     "name": "stdout",
     "output_type": "stream",
     "text": [
      "100.0\n",
      "50\n"
     ]
    }
   ],
   "source": [
    "print(5000/50)\n",
    "print(len(addthese[0:50]))"
   ]
  },
  {
   "cell_type": "code",
   "execution_count": 9,
   "metadata": {},
   "outputs": [
    {
     "name": "stdout",
     "output_type": "stream",
     "text": [
      "5537376230390876637302048746832985971773659831892672\n"
     ]
    }
   ],
   "source": [
    "x = 0\n",
    "listy = []\n",
    "while x <= 5000 - 50:\n",
    "    listy += [int(addthese[x:x+50])]\n",
    "    x+=50\n",
    "print(sum(listy))"
   ]
  },
  {
   "cell_type": "code",
   "execution_count": 11,
   "metadata": {},
   "outputs": [
    {
     "name": "stdout",
     "output_type": "stream",
     "text": [
      "Answer to Problem 13: 5537376230\n"
     ]
    }
   ],
   "source": [
    "print(\"Answer to Problem 13:\", str(sum(listy))[0:10])"
   ]
  },
  {
   "cell_type": "markdown",
   "metadata": {},
   "source": [
    "Problem 14\n",
    "\n",
    "The following iterative sequence is defined for the set of positive integers:\n",
    "\n",
    "n → n/2 (n is even)<br>\n",
    "n → 3n + 1 (n is odd)\n",
    "\n",
    "Using the rule above and starting with 13, we generate the following sequence:\n",
    "\n",
    "13 → 40 → 20 → 10 → 5 → 16 → 8 → 4 → 2 → 1<br>\n",
    "It can be seen that this sequence (starting at 13 and finishing at 1) contains 10 terms. Although it has not been proved yet <br>(Collatz Problem), it is thought that all starting numbers finish at 1.\n",
    "\n",
    "Which starting number, under one million, produces the longest chain?\n",
    "\n",
    "NOTE: Once the chain starts the terms are allowed to go above one million."
   ]
  },
  {
   "cell_type": "code",
   "execution_count": 12,
   "metadata": {},
   "outputs": [
    {
     "name": "stdout",
     "output_type": "stream",
     "text": [
      "10\n"
     ]
    }
   ],
   "source": [
    "def collatz(x):\n",
    "    n=1\n",
    "    while x!=1:\n",
    "        if x%2==0:\n",
    "            x=x/2\n",
    "        elif x%2==1:\n",
    "            x=(3*x)+1\n",
    "        n+=1\n",
    "    return n\n",
    "print(collatz(13))"
   ]
  },
  {
   "cell_type": "code",
   "execution_count": 19,
   "metadata": {},
   "outputs": [
    {
     "name": "stdout",
     "output_type": "stream",
     "text": [
      "Answer to Problem 14: 837799\n"
     ]
    }
   ],
   "source": [
    "b=0\n",
    "for a in range(1,1000000):\n",
    "    c=collatz(a)\n",
    "    if c>b:\n",
    "        b=c\n",
    "        maxnum=a\n",
    "print(\"Answer to Problem 14:\", maxnum)"
   ]
  },
  {
   "cell_type": "markdown",
   "metadata": {},
   "source": [
    "Problem 15\n",
    "\n",
    "Starting in the top left corner of a 2×2 grid, and only being able to move to the right and down, there are exactly 6 routes to the bottom right corner.\n",
    "\n",
    "\n",
    "How many such routes are there through a 20×20 grid?"
   ]
  },
  {
   "cell_type": "markdown",
   "metadata": {},
   "source": [
    "Problem 15 is just a combinatorics problem which does not require coding. The solution is 40 choose 20."
   ]
  },
  {
   "cell_type": "code",
   "execution_count": 22,
   "metadata": {},
   "outputs": [
    {
     "name": "stdout",
     "output_type": "stream",
     "text": [
      "Answer to Problem 15: 137846528820\n"
     ]
    }
   ],
   "source": [
    "print(\"Answer to Problem 15:\", math.comb(40,20))"
   ]
  },
  {
   "cell_type": "markdown",
   "metadata": {},
   "source": [
    "Problem 16\n",
    "\n",
    "215 = 32768 and the sum of its digits is 3 + 2 + 7 + 6 + 8 = 26.\n",
    "\n",
    "What is the sum of the digits of the number 21000?"
   ]
  },
  {
   "cell_type": "code",
   "execution_count": 23,
   "metadata": {},
   "outputs": [
    {
     "data": {
      "text/plain": [
       "10715086071862673209484250490600018105614048117055336074437503883703510511249361224931983788156958581275946729175531468251871452856923140435984577574698574803934567774824230985421074605062371141877954182153046474983581941267398767559165543946077062914571196477686542167660429831652624386837205668069376"
      ]
     },
     "execution_count": 23,
     "metadata": {},
     "output_type": "execute_result"
    }
   ],
   "source": [
    "2**1000"
   ]
  },
  {
   "cell_type": "code",
   "execution_count": 29,
   "metadata": {},
   "outputs": [
    {
     "name": "stdout",
     "output_type": "stream",
     "text": [
      "302\n",
      "Answer to Problem 16: 1366\n"
     ]
    }
   ],
   "source": [
    "stringy1 = '10715086071862673209484250490600018105614048117055336074437503883703510511249361224931983788156958581275946729175531468251871452856923140435984577574698574803934567774824230985421074605062371141877954182153046474983581941267398767559165543946077062914571196477686542167660429831652624386837205668069376'\n",
    "\n",
    "print(len(stringy1))\n",
    "n=0\n",
    "for x in range(0,302):\n",
    "    n+=int(stringy1[x])\n",
    "print(\"Answer to Problem 16:\", n)"
   ]
  },
  {
   "cell_type": "markdown",
   "metadata": {},
   "source": [
    "Problem 17\n",
    "\n",
    "If the numbers 1 to 5 are written out in words: one, two, three, four, five, then there are 3 + 3 + 5 + 4 + 4 = 19 letters used in total.\n",
    "\n",
    "If all the numbers from 1 to 1000 (one thousand) inclusive were written out in words, how many letters would be used?\n",
    "\n",
    "\n",
    "NOTE: Do not count spaces or hyphens. For example, 342 (three hundred and forty-two) contains 23 letters and 115 (one hundred and<br> fifteen) contains 20 letters. The use of \"and\" when writing out numbers is in compliance with British usage."
   ]
  },
  {
   "cell_type": "code",
   "execution_count": 33,
   "metadata": {},
   "outputs": [
    {
     "name": "stdout",
     "output_type": "stream",
     "text": [
      "Answer to Problem 17 : 21124\n"
     ]
    }
   ],
   "source": [
    "strings1 =['','one','two','three','four','five','six','seven','eight','nine']\n",
    "strings2=['twenty','thirty','forty','fifty','sixty','seventy','eighty','ninety']\n",
    "strings3=['hundred','and','thousand']\n",
    "strings4=['ten','eleven','twelve','thirteen','fourteen','fifteen','sixteen','seventeen','eighteen','nineteen']\n",
    "m=0\n",
    "for a in range(0,10):\n",
    "    m+=len(strings1[a])\n",
    "    #print(strings1[a])\n",
    "n=0\n",
    "for b in range(0,10):\n",
    "    n+=len(strings4[b])\n",
    "    #print(strings4[b])\n",
    "# print(m)\n",
    "# print(n)\n",
    "o=0\n",
    "for c in range(0,8):\n",
    "    for d in range(0,10):\n",
    "        o+=(len(strings2[c])+len(strings1[d]))\n",
    "        #print(strings2[c]+strings1[d])\n",
    "# print(o)\n",
    "p=0\n",
    "s=0\n",
    "for i in range(1,10):\n",
    "    for j in range(0,8):\n",
    "        for k in range(0,10):\n",
    "            p+=len(strings1[i])+len(strings3[0])+len(strings3[1])+len(strings2[j])+len(strings1[k])\n",
    "            \n",
    "r=0\n",
    "for l in range(1,10):\n",
    "    r+=len(strings1[l])+len(strings3[0])\n",
    "    #print(strings1[l]+strings3[0])\n",
    "# print(p)\n",
    "q=11\n",
    "# print(q)\n",
    "# print(r)\n",
    "t=0\n",
    "for e in range(1,10):\n",
    "    for f in range(1,10):\n",
    "        s+=len(strings1[e])+len(strings3[0])+3+len(strings1[f])\n",
    "        #print(strings1[e]+strings3[0]+strings1[f])\n",
    "    for g in range(0,10):\n",
    "        t+=len(strings1[e])+len(strings3[0])+3+len(strings4[g])\n",
    "        #print(strings1[e]+strings3[0]+strings4[g])\n",
    "# print(s)\n",
    "# print(t)\n",
    "print('Answer to Problem 17 :', m+n+o+p+q+r+s+t)"
   ]
  },
  {
   "cell_type": "markdown",
   "metadata": {},
   "source": [
    "Problem 18\n",
    "\n",
    "Maxiumum Path Sum I"
   ]
  },
  {
   "cell_type": "markdown",
   "metadata": {},
   "source": [
    "By starting at the top of the triangle below and moving to adjacent numbers on the row below, the maximum total from top to bottom is 23.\n",
    "\n",
    "<span style=\"color:red\">3</span><br>\n",
    "<span style=\"color:red\">7</span> 4<br>\n",
    "2 <span style=\"color:red\">4</span> 6<br>\n",
    "8 5 <span style=\"color:red\">9</span> 3\n",
    "\n",
    "That is, 3 + 7 + 4 + 9 = 23.\n",
    "\n",
    "Find the maximum total from top to bottom of the triangle below:\n",
    "\n",
    "75<br>\n",
    "95 64<br>\n",
    "17 47 82<br>\n",
    "18 35 87 10<br>\n",
    "20 04 82 47 65<br>\n",
    "19 01 23 75 03 34<br>\n",
    "88 02 77 73 07 63 67<br>\n",
    "99 65 04 28 06 16 70 92<br>\n",
    "41 41 26 56 83 40 80 70 33<br>\n",
    "41 48 72 33 47 32 37 16 94 29<br>\n",
    "53 71 44 65 25 43 91 52 97 51 14<br>\n",
    "70 11 33 28 77 73 17 78 39 68 17 57<br>\n",
    "91 71 52 38 17 14 91 43 58 50 27 29 48<br>\n",
    "63 66 04 68 89 53 67 30 73 16 69 87 40 31<br>\n",
    "04 62 98 27 23 09 70 98 73 93 38 53 60 04 23\n",
    "\n",
    "NOTE: As there are only 16384 routes, it is possible to solve this problem by trying every route. However, Problem 67, is the same challenge with a triangle containing one-hundred rows; it cannot be solved by brute force, and requires a clever method! ;o)"
   ]
  },
  {
   "cell_type": "code",
   "execution_count": 2,
   "metadata": {},
   "outputs": [],
   "source": [
    "smalltri = '\\\n",
    "75 \\\n",
    "95 64 \\\n",
    "17 47 82 \\\n",
    "18 35 87 10 \\\n",
    "20 04 82 47 65 \\\n",
    "19 01 23 75 03 34 \\\n",
    "88 02 77 73 07 63 67 \\\n",
    "99 65 04 28 06 16 70 92 \\\n",
    "41 41 26 56 83 40 80 70 33 \\\n",
    "41 48 72 33 47 32 37 16 94 29 \\\n",
    "53 71 44 65 25 43 91 52 97 51 14 \\\n",
    "70 11 33 28 77 73 17 78 39 68 17 57 \\\n",
    "91 71 52 38 17 14 91 43 58 50 27 29 48 \\\n",
    "63 66 04 68 89 53 67 30 73 16 69 87 40 31 \\\n",
    "04 62 98 27 23 09 70 98 73 93 38 53 60 04 23 '"
   ]
  },
  {
   "cell_type": "code",
   "execution_count": 3,
   "metadata": {},
   "outputs": [],
   "source": [
    "tinytri = '\\\n",
    "3 \\\n",
    "7 4 \\\n",
    "2 4 6 \\\n",
    "8 5 9 3 '"
   ]
  },
  {
   "cell_type": "code",
   "execution_count": 4,
   "metadata": {},
   "outputs": [
    {
     "name": "stdout",
     "output_type": "stream",
     "text": [
      "360\n",
      "3 7 4 2 4 6 8 5 9 3 \n"
     ]
    }
   ],
   "source": [
    "print(len(smalltri))\n",
    "print(tinytri)"
   ]
  },
  {
   "cell_type": "code",
   "execution_count": 5,
   "metadata": {},
   "outputs": [
    {
     "name": "stdout",
     "output_type": "stream",
     "text": [
      "120\n",
      "23\n"
     ]
    }
   ],
   "source": [
    "#So here I separate out the \"literal\" variable type into a list of numbers\n",
    "x = 0\n",
    "listy =[]\n",
    "while x <= len(smalltri)-3:\n",
    "    listy += [int(smalltri[x:x+3])]\n",
    "    x+=3\n",
    "print(len(listy))\n",
    "print(listy[len(listy)-1])"
   ]
  },
  {
   "cell_type": "code",
   "execution_count": 6,
   "metadata": {},
   "outputs": [
    {
     "name": "stdout",
     "output_type": "stream",
     "text": [
      "[75, 95, 64, 17, 47, 82, 18, 35, 87, 10, 20, 4, 82, 47, 65, 19, 1, 23, 75, 3, 34, 88, 2, 77, 73, 7, 63, 67, 99, 65, 4, 28, 6, 16, 70, 92, 41, 41, 26, 56, 83, 40, 80, 70, 33, 41, 48, 72, 33, 47, 32, 37, 16, 94, 29, 53, 71, 44, 65, 25, 43, 91, 52, 97, 51, 14, 70, 11, 33, 28, 77, 73, 17, 78, 39, 68, 17, 57, 91, 71, 52, 38, 17, 14, 91, 43, 58, 50, 27, 29, 48, 63, 66, 4, 68, 89, 53, 67, 30, 73, 16, 69, 87, 40, 31, 4, 62, 98, 27, 23, 9, 70, 98, 73, 93, 38, 53, 60, 4, 23]\n"
     ]
    }
   ],
   "source": [
    "print(listy)"
   ]
  },
  {
   "cell_type": "code",
   "execution_count": 9,
   "metadata": {},
   "outputs": [
    {
     "name": "stdout",
     "output_type": "stream",
     "text": [
      "[[75  0  0  0  0  0  0  0  0  0  0  0  0  0  0]\n",
      " [95 64  0  0  0  0  0  0  0  0  0  0  0  0  0]\n",
      " [17 47 82  0  0  0  0  0  0  0  0  0  0  0  0]\n",
      " [18 35 87 10  0  0  0  0  0  0  0  0  0  0  0]\n",
      " [20  4 82 47 65  0  0  0  0  0  0  0  0  0  0]\n",
      " [19  1 23 75  3 34  0  0  0  0  0  0  0  0  0]\n",
      " [88  2 77 73  7 63 67  0  0  0  0  0  0  0  0]\n",
      " [99 65  4 28  6 16 70 92  0  0  0  0  0  0  0]\n",
      " [41 41 26 56 83 40 80 70 33  0  0  0  0  0  0]\n",
      " [41 48 72 33 47 32 37 16 94 29  0  0  0  0  0]\n",
      " [53 71 44 65 25 43 91 52 97 51 14  0  0  0  0]\n",
      " [70 11 33 28 77 73 17 78 39 68 17 57  0  0  0]\n",
      " [91 71 52 38 17 14 91 43 58 50 27 29 48  0  0]\n",
      " [63 66  4 68 89 53 67 30 73 16 69 87 40 31  0]\n",
      " [ 4 62 98 27 23  9 70 98 73 93 38 53 60  4 23]]\n"
     ]
    }
   ],
   "source": [
    "smalltri1 = np.zeros((15,15), dtype = int)\n",
    "x = 0\n",
    "for i in range(0,15):\n",
    "    for j in range (0,i+1):\n",
    "        smalltri1[i,j] = listy[x]\n",
    "        x+=1\n",
    "print(smalltri1)"
   ]
  },
  {
   "cell_type": "markdown",
   "metadata": {},
   "source": [
    "Let's start with a brute force method, then look for more efficient methods.<br>\n",
    "There was already a problem regarding the number of possible paths down a triangle<br>\n",
    "\n",
    "I know that I am looking at a series of binary choices:<br>\n",
    "2^14<br>\n",
    "\n",
    "I can think of many ways to make it more likely to find a good path. However I can't think of any to guarantee the greatest path.\n"
   ]
  },
  {
   "cell_type": "code",
   "execution_count": 10,
   "metadata": {},
   "outputs": [
    {
     "name": "stdout",
     "output_type": "stream",
     "text": [
      "Number of possible paths: 16384\n",
      "Imagine an array of length fourteen each entry of which can contain a 1 or 0\n"
     ]
    }
   ],
   "source": [
    "print('Number of possible paths:',2**14)\n",
    "print('Imagine an array of length fourteen each entry of which can contain a 1 or 0')"
   ]
  },
  {
   "cell_type": "code",
   "execution_count": 11,
   "metadata": {},
   "outputs": [],
   "source": [
    "def binarraygenerator(n):\n",
    "    binarr = np.zeros(14,dtype=int)\n",
    "    i = 0\n",
    "    while n > 2**i:\n",
    "        i+=1\n",
    "    while i > -1:\n",
    "        if n >= 2**i:\n",
    "            binarr[-i-1]=1\n",
    "            n = n-(2**i)\n",
    "        i-=1\n",
    "    return binarr"
   ]
  },
  {
   "cell_type": "code",
   "execution_count": 14,
   "metadata": {},
   "outputs": [
    {
     "name": "stdout",
     "output_type": "stream",
     "text": [
      "[0 0 0 0 0 0 0 0 0 0 0 1 0 0]\n",
      "[0 0 0 1 0 0 0 0 1 1 0 0 1 0]\n"
     ]
    }
   ],
   "source": [
    "#reviewing this code it looks like this function is essentially counting in binary upto 2^14\n",
    "print(binarraygenerator(4))\n",
    "print(binarraygenerator(1074))"
   ]
  },
  {
   "cell_type": "code",
   "execution_count": 15,
   "metadata": {},
   "outputs": [],
   "source": [
    "greatestsum = 0\n",
    "bestarr= np.empty(15,dtype=int)\n",
    "binarr = np.empty(14,dtype=int)"
   ]
  },
  {
   "cell_type": "code",
   "execution_count": 16,
   "metadata": {},
   "outputs": [
    {
     "name": "stdout",
     "output_type": "stream",
     "text": [
      "Answer to problem 18: 1074\n"
     ]
    }
   ],
   "source": [
    "for i in range (0,2**14-1):\n",
    "    currarr = np.zeros(15,dtype=int)\n",
    "    currarr[0]=75\n",
    "    x = binarraygenerator(i)\n",
    "    k = 0\n",
    "    for j in range(1,15):\n",
    "        k+= x[j-1]\n",
    "        currarr[j] = smalltri1[j,k]\n",
    "    if sum(currarr)>greatestsum:\n",
    "        greatestsum = sum(currarr)\n",
    "        bestarr[:]=currarr\n",
    "        binarr[:]=x\n",
    "print('Answer to problem 18:', greatestsum)"
   ]
  },
  {
   "cell_type": "markdown",
   "metadata": {},
   "source": [
    "Problem 19\n",
    "\n",
    "Sundays in the 20th Century"
   ]
  },
  {
   "cell_type": "markdown",
   "metadata": {},
   "source": [
    "You are given the following information, but you may prefer to do some research for yourself.\n",
    "\n",
    "1 Jan 1900 was a Monday. \n",
    "\n",
    "Thirty days has September,\n",
    "\n",
    "April, June and November.\n",
    "\n",
    "All the rest have thirty-one,\n",
    "\n",
    "Saving February alone,\n",
    "\n",
    "Which has twenty-eight, rain or shine.\n",
    "\n",
    "And on leap years, twenty-nine.\n",
    "\n",
    "A leap year occurs on any year evenly divisible by 4, but not on a century unless it is divisible by 400.\n",
    "How many Sundays fell on the first of the month during the twentieth century (1 Jan 1901 to 31 Dec 2000)?"
   ]
  },
  {
   "cell_type": "code",
   "execution_count": 17,
   "metadata": {},
   "outputs": [
    {
     "name": "stdout",
     "output_type": "stream",
     "text": [
      "[3 0 3 2 3 2 3 3 2 3 2 3]\n"
     ]
    }
   ],
   "source": [
    "months = ['January', 'February', 'March', 'April', 'May', 'June', 'July',\n",
    "          'August', 'September', 'October', 'November', 'December']\n",
    "daysineachmonth = np.array([31,28,31,30,31,30,31,31,30,31,30,31])\n",
    "daysoftheweek =['Monday','Tuesday','Wednesday','Thursday','Friday','Saturday','Sunday']\n",
    "startyear = 1901\n",
    "startday = 1\n",
    "modmonths = (daysineachmonth%7)\n",
    "print(modmonths)"
   ]
  },
  {
   "cell_type": "code",
   "execution_count": 19,
   "metadata": {},
   "outputs": [
    {
     "name": "stdout",
     "output_type": "stream",
     "text": [
      "['January', 1, 1901]\n",
      "['December', 31, 2000]\n"
     ]
    }
   ],
   "source": [
    "startdate = [months[0],startday,startyear]\n",
    "enddate = [months[11],daysineachmonth[11],2000]\n",
    "print(startdate)\n",
    "print(enddate)"
   ]
  },
  {
   "cell_type": "code",
   "execution_count": 18,
   "metadata": {},
   "outputs": [
    {
     "name": "stdout",
     "output_type": "stream",
     "text": [
      "171\n",
      "2926\n"
     ]
    }
   ],
   "source": [
    "totalsundays = 0\n",
    "counter = 1\n",
    "sundays =[]\n",
    "for i in range(1,101):\n",
    "    for j in range(0,12):\n",
    "        if counter%7==6:\n",
    "            totalsundays+=1\n",
    "            #print('1st of', months[j], 1900+i)\n",
    "        if j == 1 and i%4 == 0:\n",
    "            counter +=1\n",
    "        counter+=modmonths[j]\n",
    "        \n",
    "print(totalsundays)\n",
    "print(counter)"
   ]
  },
  {
   "cell_type": "markdown",
   "metadata": {},
   "source": [
    "Problem 20\n",
    "\n",
    "Factorial Digit Sum"
   ]
  },
  {
   "cell_type": "markdown",
   "metadata": {},
   "source": [
    "n! means n × (n − 1) × ... × 3 × 2 × 1\n",
    "\n",
    "For example, 10! = 10 × 9 × ... × 3 × 2 × 1 = 3628800,\n",
    "and the sum of the digits in the number 10! is 3 + 6 + 2 + 8 + 8 + 0 + 0 = 27.\n",
    "\n",
    "Find the sum of the digits in the number 100!\n",
    "\n"
   ]
  },
  {
   "cell_type": "code",
   "execution_count": 25,
   "metadata": {},
   "outputs": [
    {
     "name": "stdout",
     "output_type": "stream",
     "text": [
      "Answer to Problem 20: 648\n"
     ]
    }
   ],
   "source": [
    "numberstring = str(math.factorial(100))\n",
    "answer = 0\n",
    "for i in range(0,len(numberstring)-1):\n",
    "    answer+=int(numberstring[i])\n",
    "print(\"Answer to Problem 20:\", answer)"
   ]
  },
  {
   "cell_type": "markdown",
   "metadata": {},
   "source": [
    "Thank you for reading my solutions!\n",
    "\n",
    "-Everett"
   ]
  },
  {
   "cell_type": "markdown",
   "metadata": {},
   "source": []
  }
 ],
 "metadata": {
  "interpreter": {
   "hash": "aee8b7b246df8f9039afb4144a1f6fd8d2ca17a180786b69acc140d282b71a49"
  },
  "kernelspec": {
   "display_name": "Python 3.9.9 64-bit",
   "language": "python",
   "name": "python3"
  },
  "language_info": {
   "codemirror_mode": {
    "name": "ipython",
    "version": 3
   },
   "file_extension": ".py",
   "mimetype": "text/x-python",
   "name": "python",
   "nbconvert_exporter": "python",
   "pygments_lexer": "ipython3",
   "version": "3.9.9"
  },
  "orig_nbformat": 4
 },
 "nbformat": 4,
 "nbformat_minor": 2
}
