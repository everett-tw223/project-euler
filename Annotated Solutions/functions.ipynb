{
 "cells": [
  {
   "cell_type": "code",
   "execution_count": 4,
   "metadata": {},
   "outputs": [],
   "source": [
    "import math"
   ]
  },
  {
   "cell_type": "code",
   "execution_count": null,
   "metadata": {},
   "outputs": [],
   "source": [
    "def check_prime(n):\n",
    "    if n==2:\n",
    "        return True\n",
    "    elif n==1:\n",
    "        return False\n",
    "    else:\n",
    "        for i in range(2,math.ceil(math.sqrt(n+1))):\n",
    "            if n%i==0:\n",
    "                return False\n",
    "        return True"
   ]
  },
  {
   "cell_type": "code",
   "execution_count": 34,
   "metadata": {},
   "outputs": [],
   "source": [
    "def lower_factors_of_n(n):\n",
    "    factor_list = []\n",
    "    for i in range(2,math.ceil(math.sqrt(n))):\n",
    "        if n%i==0:\n",
    "            factor_list+=[i]\n",
    "    return factor_list"
   ]
  },
  {
   "cell_type": "code",
   "execution_count": null,
   "metadata": {},
   "outputs": [],
   "source": [
    "def prime_factors_of_n(n):\n",
    "    prime_factors=[]\n",
    "    list1 = lower_factors_of_n(n)\n",
    "    for element in list1:\n",
    "        if check_prime(element)==True:\n",
    "            prime_factors+=[element]\n",
    "    return(prime_factors)"
   ]
  },
  {
   "cell_type": "code",
   "execution_count": 40,
   "metadata": {},
   "outputs": [],
   "source": [
    "def is_palindrome(input1):\n",
    "    alpha=str(input1)\n",
    "    i=0\n",
    "    while i<(len(alpha)/2):\n",
    "        if alpha[i]!=alpha[len(alpha)-(i+1)]:\n",
    "            return False\n",
    "        else:\n",
    "            i+=1\n",
    "    return True"
   ]
  },
  {
   "cell_type": "code",
   "execution_count": 27,
   "metadata": {},
   "outputs": [],
   "source": [
    "def proper_divisors(i):\n",
    "    if i==1:\n",
    "        return [1]\n",
    "    factor_list=[1]\n",
    "    if int(math.sqrt(i))**2==i:\n",
    "        factor_list+=[int(math.sqrt(i))]\n",
    "    for x in range(2,int(math.sqrt(i)+1)):\n",
    "        if i%x==0:\n",
    "            factor_list+=[x]\n",
    "            factor_list+=[int(i/x)]\n",
    "    factor_list = list(set(factor_list))\n",
    "    return sorted(factor_list)"
   ]
  },
  {
   "cell_type": "code",
   "execution_count": null,
   "metadata": {},
   "outputs": [],
   "source": [
    "def prime_factorization(n):\n",
    "    factor_list = []\n",
    "    while check_prime(n)==False:\n",
    "        for i in range(2,math.ceil(math.sqrt(n+1))):\n",
    "            if n%i==0:\n",
    "                factor_list+=[i]\n",
    "                n = int(n/i)\n",
    "                break\n",
    "    factor_list+=[n]\n",
    "    return(factor_list)"
   ]
  },
  {
   "cell_type": "code",
   "execution_count": 41,
   "metadata": {},
   "outputs": [],
   "source": [
    "def divisor_count(input1):\n",
    "    output=0\n",
    "    if int(math.sqrt(input1))**2==input1:\n",
    "        output+=1\n",
    "    i=1\n",
    "    while i<math.sqrt(input1):\n",
    "        if input1%i==0:\n",
    "            output+=2\n",
    "        i+=1\n",
    "    return output"
   ]
  },
  {
   "cell_type": "code",
   "execution_count": null,
   "metadata": {},
   "outputs": [],
   "source": [
    "def generate_triangle_number(input1):\n",
    "    i=1\n",
    "    output = 0\n",
    "    while i<=input1:\n",
    "        output+=i\n",
    "        i+=1\n",
    "    return output"
   ]
  },
  {
   "cell_type": "markdown",
   "metadata": {},
   "source": [
    "# Prime Number Generators"
   ]
  },
  {
   "cell_type": "code",
   "execution_count": 46,
   "metadata": {},
   "outputs": [],
   "source": [
    "import numpy as np"
   ]
  },
  {
   "cell_type": "code",
   "execution_count": 61,
   "metadata": {},
   "outputs": [],
   "source": [
    "def prime_sieve(n):\n",
    "    numbum = np.arange(2,n,1)\n",
    "    listy = numbum.tolist()\n",
    "    x=0\n",
    "    while x < len(listy):\n",
    "        for element in listy:\n",
    "            if element!=listy[x] and element%listy[x]==0:\n",
    "                listy.remove(element)\n",
    "        x+=1\n",
    "    return listy"
   ]
  },
  {
   "cell_type": "code",
   "execution_count": 99,
   "metadata": {},
   "outputs": [
    {
     "ename": "SyntaxError",
     "evalue": "invalid syntax (1237858828.py, line 6)",
     "output_type": "error",
     "traceback": [
      "\u001b[0;36m  File \u001b[0;32m\"/var/folders/xf/666mz97x5576ytl2qh2z6wtm0000gn/T/ipykernel_90226/1237858828.py\"\u001b[0;36m, line \u001b[0;32m6\u001b[0m\n\u001b[0;31m    for element>x in listy:\u001b[0m\n\u001b[0m                          ^\u001b[0m\n\u001b[0;31mSyntaxError\u001b[0m\u001b[0;31m:\u001b[0m invalid syntax\n"
     ]
    }
   ],
   "source": [
    "def prime_sieve(n):\n",
    "    listy = list(range(3,n+1,2))\n",
    "    y = len(listy)\n",
    "    x = 0\n",
    "    while x < y:\n",
    "        for element in listy:\n",
    "            if element!=listy[x] and element%listy[x]==0:\n",
    "                listy.remove(element)\n",
    "                y-=1\n",
    "        x+=1\n",
    "    return [2] + listy"
   ]
  },
  {
   "cell_type": "code",
   "execution_count": 2,
   "metadata": {},
   "outputs": [],
   "source": [
    "def prime_sieve_2(n):\n",
    "    list_of_primes = [2]\n",
    "    curr_num = 3\n",
    "    while curr_num<=n:\n",
    "        for element in list_of_primes:\n",
    "            if curr_num%element==0:\n",
    "                curr_num+=2\n",
    "                break\n",
    "        list_of_primes+=[curr_num]\n",
    "        curr_num+=2\n",
    "    return list_of_primes"
   ]
  },
  {
   "cell_type": "code",
   "execution_count": 96,
   "metadata": {},
   "outputs": [
    {
     "data": {
      "text/plain": [
       "[2, 3, 4]"
      ]
     },
     "execution_count": 96,
     "metadata": {},
     "output_type": "execute_result"
    }
   ],
   "source": [
    "listy = list(range(2,5))\n",
    "listy"
   ]
  },
  {
   "cell_type": "code",
   "execution_count": 98,
   "metadata": {},
   "outputs": [
    {
     "data": {
      "text/plain": [
       "1229"
      ]
     },
     "execution_count": 98,
     "metadata": {},
     "output_type": "execute_result"
    }
   ],
   "source": [
    "len(prime_sieve(10000))"
   ]
  },
  {
   "cell_type": "code",
   "execution_count": 95,
   "metadata": {},
   "outputs": [
    {
     "data": {
      "text/plain": [
       "[2, 4, 6, 8]"
      ]
     },
     "execution_count": 95,
     "metadata": {},
     "output_type": "execute_result"
    }
   ],
   "source": [
    "np.arange(2,10,2).tolist()"
   ]
  },
  {
   "cell_type": "code",
   "execution_count": 70,
   "metadata": {},
   "outputs": [
    {
     "data": {
      "text/plain": [
       "[2, 4, 6, 8, 10, 12, 14, 16, 18, 20, 22, 24, 26, 28, 30, 32, 34, 36, 38]"
      ]
     },
     "execution_count": 70,
     "metadata": {},
     "output_type": "execute_result"
    }
   ],
   "source": [
    "list(range(2,40,2))"
   ]
  },
  {
   "cell_type": "code",
   "execution_count": 1,
   "metadata": {},
   "outputs": [],
   "source": [
    "#The difficulty is adjusting the loop each time a candidate is removed from the list\n",
    "def prime_sieve_4(n):\n",
    "    list_of_candidates = list(range(3,n,2))\n",
    "    y = len(list_of_candidates)-1\n",
    "    z = 0\n",
    "    x = 1\n",
    "    while z < y:\n",
    "        while x <= y:\n",
    "            if list_of_candidates[x]%list_of_candidates[z]==0:\n",
    "                list_of_candidates.remove(list_of_candidates[x])\n",
    "            y = len(list_of_candidates)-1\n",
    "            x+=1\n",
    "        y = len(list_of_candidates)-1\n",
    "        z+=1\n",
    "        x = z + 1\n",
    "    return [2] + list_of_candidates"
   ]
  },
  {
   "cell_type": "code",
   "execution_count": null,
   "metadata": {},
   "outputs": [],
   "source": [
    "def sieve_of_eratosthenes(n):\n",
    "    # Create a boolean list \"is_prime\" and initialize all elements as True\n",
    "    is_prime = [True] * (n + 1)\n",
    "    \n",
    "    # 0 and 1 are not prime numbers\n",
    "    is_prime[0] = is_prime[1] = False\n",
    "    \n",
    "    # Iterate through the numbers from 2 to sqrt(n)\n",
    "    for i in range(2, int(n**0.5) + 1):\n",
    "        # If i is a prime number, mark its multiples as not prime\n",
    "        if is_prime[i]:\n",
    "            for j in range(i*i, n + 1, i):\n",
    "                is_prime[j] = False\n",
    "    \n",
    "    # Collect the prime numbers\n",
    "    primes = [i for i in range(2, n + 1) if is_prime[i]]\n",
    "    \n",
    "    return primes"
   ]
  }
 ],
 "metadata": {
  "interpreter": {
   "hash": "aee8b7b246df8f9039afb4144a1f6fd8d2ca17a180786b69acc140d282b71a49"
  },
  "kernelspec": {
   "display_name": "Python 3.9.9 64-bit",
   "language": "python",
   "name": "python3"
  },
  "language_info": {
   "codemirror_mode": {
    "name": "ipython",
    "version": 3
   },
   "file_extension": ".py",
   "mimetype": "text/x-python",
   "name": "python",
   "nbconvert_exporter": "python",
   "pygments_lexer": "ipython3",
   "version": "3.9.9"
  },
  "orig_nbformat": 4
 },
 "nbformat": 4,
 "nbformat_minor": 2
}
