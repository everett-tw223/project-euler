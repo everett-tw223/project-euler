{
 "cells": [
  {
   "cell_type": "markdown",
   "metadata": {},
   "source": [
    "Sundays in the 20th Century--Euler 19"
   ]
  },
  {
   "cell_type": "markdown",
   "metadata": {},
   "source": [
    "You are given the following information, but you may prefer to do some research for yourself.\n",
    "\n",
    "1 Jan 1900 was a Monday. \n",
    "\n",
    "Thirty days has September,\n",
    "\n",
    "April, June and November.\n",
    "\n",
    "All the rest have thirty-one,\n",
    "\n",
    "Saving February alone,\n",
    "\n",
    "Which has twenty-eight, rain or shine.\n",
    "\n",
    "And on leap years, twenty-nine.\n",
    "\n",
    "A leap year occurs on any year evenly divisible by 4, but not on a century unless it is divisible by 400.\n",
    "How many Sundays fell on the first of the month during the twentieth century (1 Jan 1901 to 31 Dec 2000)?"
   ]
  },
  {
   "cell_type": "code",
   "execution_count": 27,
   "metadata": {},
   "outputs": [],
   "source": [
    "import numpy as np\n",
    "from numpy import linalg"
   ]
  },
  {
   "cell_type": "code",
   "execution_count": 55,
   "metadata": {},
   "outputs": [
    {
     "name": "stdout",
     "output_type": "stream",
     "text": [
      "[3 0 3 2 3 2 3 3 2 3 2 3]\n"
     ]
    }
   ],
   "source": [
    "months = ['January', 'February', 'March', 'April', 'May', 'June', 'July',\n",
    "          'August', 'September', 'October', 'November', 'December']\n",
    "daysineachmonth = np.array([31,28,31,30,31,30,31,31,30,31,30,31])\n",
    "daysoftheweek =['Monday','Tuesday','Wednesday','Thursday','Friday','Saturday','Sunday']\n",
    "startyear = 1901\n",
    "startday = 1\n",
    "modmonths = (daysineachmonth%7)\n",
    "print(modmonths)"
   ]
  },
  {
   "cell_type": "code",
   "execution_count": 48,
   "metadata": {},
   "outputs": [
    {
     "name": "stdout",
     "output_type": "stream",
     "text": [
      "3\n"
     ]
    }
   ],
   "source": [
    "print(31%7)"
   ]
  },
  {
   "cell_type": "code",
   "execution_count": 49,
   "metadata": {},
   "outputs": [
    {
     "name": "stdout",
     "output_type": "stream",
     "text": [
      "Thursday\n"
     ]
    }
   ],
   "source": [
    "print(daysoftheweek[3])"
   ]
  },
  {
   "cell_type": "code",
   "execution_count": 50,
   "metadata": {},
   "outputs": [
    {
     "name": "stdout",
     "output_type": "stream",
     "text": [
      "['January', 1, 1901]\n",
      "['December', 31, 2000]\n"
     ]
    }
   ],
   "source": [
    "startdate = [months[0],startday,startyear]\n",
    "enddate = [months[11],daysineachmonth[11],2000]\n",
    "print(startdate)\n",
    "print(enddate)"
   ]
  },
  {
   "cell_type": "code",
   "execution_count": 51,
   "metadata": {},
   "outputs": [
    {
     "name": "stdout",
     "output_type": "stream",
     "text": [
      "['January', 1, 1901]\n"
     ]
    }
   ],
   "source": [
    "import copy\n",
    "currdate = copy.deepcopy(startdate)\n",
    "print(currdate)"
   ]
  },
  {
   "cell_type": "code",
   "execution_count": 52,
   "metadata": {},
   "outputs": [
    {
     "ename": "SyntaxError",
     "evalue": "invalid syntax (<ipython-input-52-48038db5ff51>, line 1)",
     "output_type": "error",
     "traceback": [
      "\u001b[1;36m  File \u001b[1;32m\"<ipython-input-52-48038db5ff51>\"\u001b[1;36m, line \u001b[1;32m1\u001b[0m\n\u001b[1;33m    def dayoftheweek([day,month,year]):\u001b[0m\n\u001b[1;37m                     ^\u001b[0m\n\u001b[1;31mSyntaxError\u001b[0m\u001b[1;31m:\u001b[0m invalid syntax\n"
     ]
    }
   ],
   "source": [
    "def dayoftheweek([day,month,year]):\n",
    "    daysoftheweek =['Monday','Tuesday','Wednesday','Thursday','Friday','Saturday','Sunday']\n",
    "    "
   ]
  },
  {
   "cell_type": "code",
   "execution_count": 57,
   "metadata": {},
   "outputs": [
    {
     "name": "stdout",
     "output_type": "stream",
     "text": [
      "1st of September 1901\n",
      "1st of December 1901\n",
      "1st of June 1902\n",
      "1st of February 1903\n",
      "1st of March 1903\n",
      "1st of November 1903\n",
      "1st of May 1904\n",
      "1st of January 1905\n",
      "1st of October 1905\n",
      "1st of April 1906\n",
      "1st of July 1906\n",
      "1st of September 1907\n",
      "1st of December 1907\n",
      "1st of March 1908\n",
      "1st of November 1908\n",
      "1st of August 1909\n",
      "1st of May 1910\n",
      "1st of January 1911\n",
      "1st of October 1911\n",
      "1st of September 1912\n",
      "1st of December 1912\n",
      "1st of June 1913\n",
      "1st of February 1914\n",
      "1st of March 1914\n",
      "1st of November 1914\n",
      "1st of August 1915\n",
      "1st of October 1916\n",
      "1st of April 1917\n",
      "1st of July 1917\n",
      "1st of September 1918\n",
      "1st of December 1918\n",
      "1st of June 1919\n",
      "1st of February 1920\n",
      "1st of August 1920\n",
      "1st of May 1921\n",
      "1st of January 1922\n",
      "1st of October 1922\n",
      "1st of April 1923\n",
      "1st of July 1923\n",
      "1st of June 1924\n",
      "1st of February 1925\n",
      "1st of March 1925\n",
      "1st of November 1925\n",
      "1st of August 1926\n",
      "1st of May 1927\n",
      "1st of January 1928\n",
      "1st of April 1928\n",
      "1st of July 1928\n",
      "1st of September 1929\n",
      "1st of December 1929\n",
      "1st of June 1930\n",
      "1st of February 1931\n",
      "1st of March 1931\n",
      "1st of November 1931\n",
      "1st of May 1932\n",
      "1st of January 1933\n",
      "1st of October 1933\n",
      "1st of April 1934\n",
      "1st of July 1934\n",
      "1st of September 1935\n",
      "1st of December 1935\n",
      "1st of March 1936\n",
      "1st of November 1936\n",
      "1st of August 1937\n",
      "1st of May 1938\n",
      "1st of January 1939\n",
      "1st of October 1939\n",
      "1st of September 1940\n",
      "1st of December 1940\n",
      "1st of June 1941\n",
      "1st of February 1942\n",
      "1st of March 1942\n",
      "1st of November 1942\n",
      "1st of August 1943\n",
      "1st of October 1944\n",
      "1st of April 1945\n",
      "1st of July 1945\n",
      "1st of September 1946\n",
      "1st of December 1946\n",
      "1st of June 1947\n",
      "1st of February 1948\n",
      "1st of August 1948\n",
      "1st of May 1949\n",
      "1st of January 1950\n",
      "1st of October 1950\n",
      "1st of April 1951\n",
      "1st of July 1951\n",
      "1st of June 1952\n",
      "1st of February 1953\n",
      "1st of March 1953\n",
      "1st of November 1953\n",
      "1st of August 1954\n",
      "1st of May 1955\n",
      "1st of January 1956\n",
      "1st of April 1956\n",
      "1st of July 1956\n",
      "1st of September 1957\n",
      "1st of December 1957\n",
      "1st of June 1958\n",
      "1st of February 1959\n",
      "1st of March 1959\n",
      "1st of November 1959\n",
      "1st of May 1960\n",
      "1st of January 1961\n",
      "1st of October 1961\n",
      "1st of April 1962\n",
      "1st of July 1962\n",
      "1st of September 1963\n",
      "1st of December 1963\n",
      "1st of March 1964\n",
      "1st of November 1964\n",
      "1st of August 1965\n",
      "1st of May 1966\n",
      "1st of January 1967\n",
      "1st of October 1967\n",
      "1st of September 1968\n",
      "1st of December 1968\n",
      "1st of June 1969\n",
      "1st of February 1970\n",
      "1st of March 1970\n",
      "1st of November 1970\n",
      "1st of August 1971\n",
      "1st of October 1972\n",
      "1st of April 1973\n",
      "1st of July 1973\n",
      "1st of September 1974\n",
      "1st of December 1974\n",
      "1st of June 1975\n",
      "1st of February 1976\n",
      "1st of August 1976\n",
      "1st of May 1977\n",
      "1st of January 1978\n",
      "1st of October 1978\n",
      "1st of April 1979\n",
      "1st of July 1979\n",
      "1st of June 1980\n",
      "1st of February 1981\n",
      "1st of March 1981\n",
      "1st of November 1981\n",
      "1st of August 1982\n",
      "1st of May 1983\n",
      "1st of January 1984\n",
      "1st of April 1984\n",
      "1st of July 1984\n",
      "1st of September 1985\n",
      "1st of December 1985\n",
      "1st of June 1986\n",
      "1st of February 1987\n",
      "1st of March 1987\n",
      "1st of November 1987\n",
      "1st of May 1988\n",
      "1st of January 1989\n",
      "1st of October 1989\n",
      "1st of April 1990\n",
      "1st of July 1990\n",
      "1st of September 1991\n",
      "1st of December 1991\n",
      "1st of March 1992\n",
      "1st of November 1992\n",
      "1st of August 1993\n",
      "1st of May 1994\n",
      "1st of January 1995\n",
      "1st of October 1995\n",
      "1st of September 1996\n",
      "1st of December 1996\n",
      "1st of June 1997\n",
      "1st of February 1998\n",
      "1st of March 1998\n",
      "1st of November 1998\n",
      "1st of August 1999\n",
      "1st of October 2000\n",
      "171\n",
      "2926\n"
     ]
    }
   ],
   "source": [
    "totalsundays = 0\n",
    "counter = 1\n",
    "sundays =[]\n",
    "for i in range(1,101):\n",
    "    for j in range(0,12):\n",
    "        if counter%7==6:\n",
    "            totalsundays+=1\n",
    "            print('1st of', months[j], 1900+i)\n",
    "        if j == 1 and i%4 == 0:\n",
    "            counter +=1\n",
    "        counter+=modmonths[j]\n",
    "        \n",
    "print(totalsundays)\n",
    "print(counter)"
   ]
  },
  {
   "cell_type": "code",
   "execution_count": null,
   "metadata": {},
   "outputs": [],
   "source": []
  },
  {
   "cell_type": "code",
   "execution_count": null,
   "metadata": {},
   "outputs": [],
   "source": []
  },
  {
   "cell_type": "code",
   "execution_count": null,
   "metadata": {},
   "outputs": [],
   "source": []
  }
 ],
 "metadata": {
  "kernelspec": {
   "display_name": "Python 3",
   "language": "python",
   "name": "python3"
  },
  "language_info": {
   "codemirror_mode": {
    "name": "ipython",
    "version": 3
   },
   "file_extension": ".py",
   "mimetype": "text/x-python",
   "name": "python",
   "nbconvert_exporter": "python",
   "pygments_lexer": "ipython3",
   "version": "3.7.6"
  }
 },
 "nbformat": 4,
 "nbformat_minor": 4
}
