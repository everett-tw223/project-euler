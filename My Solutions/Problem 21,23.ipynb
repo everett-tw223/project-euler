{
 "cells": [
  {
   "cell_type": "code",
   "execution_count": 1,
   "metadata": {},
   "outputs": [],
   "source": [
    "import math\n",
    "import numpy as np\n",
    "from numpy import linalg"
   ]
  },
  {
   "cell_type": "code",
   "execution_count": 2,
   "metadata": {},
   "outputs": [],
   "source": [
    "def factorize(i):\n",
    "    if i==1:\n",
    "        return [1]\n",
    "    list1=[1]\n",
    "    if int(math.sqrt(i))**2==i:\n",
    "        list1+=[int(math.sqrt(i))]\n",
    "    x=2\n",
    "    while x<math.sqrt(i):\n",
    "        if i%x==0:\n",
    "            list1+=[x]\n",
    "            list1+=[int(i/x)]\n",
    "        x+=1\n",
    "    return sorted(list1)"
   ]
  },
  {
   "cell_type": "code",
   "execution_count": 11,
   "metadata": {},
   "outputs": [
    {
     "data": {
      "text/plain": [
       "[1, 2, 3, 5, 6, 10, 15]"
      ]
     },
     "execution_count": 11,
     "metadata": {},
     "output_type": "execute_result"
    }
   ],
   "source": [
    "sorted(factorize(30))"
   ]
  },
  {
   "cell_type": "code",
   "execution_count": 7,
   "metadata": {},
   "outputs": [],
   "source": [
    "def d(n):\n",
    "    return sum(factorize(n))"
   ]
  },
  {
   "cell_type": "code",
   "execution_count": 8,
   "metadata": {},
   "outputs": [],
   "source": [
    "#now we have to think what limits there might be on possible amicable numbers to narrow our search\n",
    "#note my d function doesn't work for 1 ...fixed it with an exception\n",
    "amicable=[]\n",
    "for n in range(2,10000):\n",
    "    if d(d(n))==n and n!=d(n):\n",
    "        amicable+=[n]"
   ]
  },
  {
   "cell_type": "code",
   "execution_count": 9,
   "metadata": {},
   "outputs": [
    {
     "name": "stdout",
     "output_type": "stream",
     "text": [
      "[220, 284, 1184, 1210, 2620, 2924, 5020, 5564, 6232, 6368]\n",
      "sum of amicables under 10000: 31626\n",
      "number of amicables under 10000: 10\n"
     ]
    }
   ],
   "source": [
    "print(amicable)\n",
    "print('sum of amicables under 10000:',sum(amicable))\n",
    "print('number of amicables under 10000:',len(amicable))"
   ]
  },
  {
   "cell_type": "markdown",
   "metadata": {},
   "source": [
    "Looking at the list of amicables under 10,000 we notice that there are no sets of amicables between another set of amicables. Is this a property of amicable numbers?"
   ]
  },
  {
   "cell_type": "markdown",
   "metadata": {},
   "source": [
    "# Problem 23\n",
    "Non-abundant sums"
   ]
  },
  {
   "cell_type": "markdown",
   "metadata": {},
   "source": [
    "A perfect number is a number for which the sum of its proper divisors is exactly equal to the number. For example, the sum of the proper divisors of 28 would be 1 + 2 + 4 + 7 + 14 = 28, which means that 28 is a perfect number.\n",
    "\n",
    "A number n is called deficient if the sum of its proper divisors is less than n and it is called abundant if this sum exceeds n.\n",
    "\n",
    "As 12 is the smallest abundant number, 1 + 2 + 3 + 4 + 6 = 16, the smallest number that can be written as the sum of two abundant numbers is 24. By mathematical analysis, it can be shown that all integers greater than 28123 can be written as the sum of two abundant numbers. However, this upper limit cannot be reduced any further by analysis even though it is known that the greatest number that cannot be expressed as the sum of two abundant numbers is less than this limit.\n",
    "\n",
    "Find the sum of all the positive integers which cannot be written as the sum of two abundant numbers."
   ]
  },
  {
   "cell_type": "code",
   "execution_count": 10,
   "metadata": {},
   "outputs": [
    {
     "name": "stdout",
     "output_type": "stream",
     "text": [
      "28\n"
     ]
    }
   ],
   "source": [
    "#I think factorization is gonna be the key to this problem...maybe that was obvious, but using\n",
    "#the functions from problem 21 might actually be going the wrong way here\n",
    "#is the the problem that finally forces me to create a prime factors function?\n",
    "print(d(28))"
   ]
  },
  {
   "cell_type": "code",
   "execution_count": 11,
   "metadata": {},
   "outputs": [],
   "source": [
    "def primefactors(n):\n",
    "    x=2\n",
    "    y=[]\n",
    "    z=n\n",
    "    while x<=z:\n",
    "        if z%x==0:\n",
    "            y+=[x]\n",
    "            z=int(z/x)\n",
    "            x=2\n",
    "        else:\n",
    "            x+=1\n",
    "    return y"
   ]
  },
  {
   "cell_type": "code",
   "execution_count": 12,
   "metadata": {},
   "outputs": [
    {
     "name": "stdout",
     "output_type": "stream",
     "text": [
      "[2, 2, 2, 2, 2]\n"
     ]
    }
   ],
   "source": [
    "print(primefactors(32))"
   ]
  },
  {
   "cell_type": "code",
   "execution_count": 20,
   "metadata": {},
   "outputs": [
    {
     "name": "stdout",
     "output_type": "stream",
     "text": [
      "[[0]\n",
      " [1]]\n"
     ]
    }
   ],
   "source": [
    "arr1=np.array([[0],[0]]) \n",
    "y=32\n",
    "arr2=np.array([[0],[1]]) \n",
    "print(arr1+arr2)\n",
    "def appendprime(y):\n",
    "    \n",
    "for element in primefactors(y):\n",
    "    \n",
    "        \n",
    "        "
   ]
  },
  {
   "cell_type": "code",
   "execution_count": 19,
   "metadata": {},
   "outputs": [
    {
     "name": "stdout",
     "output_type": "stream",
     "text": [
      "0\n"
     ]
    }
   ],
   "source": [
    "print(arr1[0,0])"
   ]
  },
  {
   "cell_type": "code",
   "execution_count": 18,
   "metadata": {},
   "outputs": [],
   "source": [
    "abundants = []\n",
    "x = 1\n",
    "while x <14075:\n",
    "    if d(x)>x:\n",
    "        abundants+=[x]\n",
    "    x+=1\n"
   ]
  },
  {
   "cell_type": "code",
   "execution_count": 21,
   "metadata": {},
   "outputs": [
    {
     "name": "stdout",
     "output_type": "stream",
     "text": [
      "number of abundants under 14075: 3492\n"
     ]
    }
   ],
   "source": [
    "print('number of abundants under 14075:',len(abundants))"
   ]
  }
 ],
 "metadata": {
  "kernelspec": {
   "display_name": "Python 3",
   "language": "python",
   "name": "python3"
  },
  "language_info": {
   "codemirror_mode": {
    "name": "ipython",
    "version": 3
   },
   "file_extension": ".py",
   "mimetype": "text/x-python",
   "name": "python",
   "nbconvert_exporter": "python",
   "pygments_lexer": "ipython3",
   "version": "3.9.9"
  }
 },
 "nbformat": 4,
 "nbformat_minor": 2
}
