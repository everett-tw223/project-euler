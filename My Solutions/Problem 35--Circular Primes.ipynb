{
 "cells": [
  {
   "cell_type": "markdown",
   "metadata": {},
   "source": [
    "Problem 35--Circular Primes"
   ]
  },
  {
   "cell_type": "markdown",
   "metadata": {},
   "source": [
    "The number, 197, is called a circular prime because all rotations of the digits: 197, 971, and 719, are themselves prime.\n",
    "\n",
    "There are thirteen such primes below 100: 2, 3, 5, 7, 11, 13, 17, 31, 37, 71, 73, 79, and 97.\n",
    "\n",
    "How many circular primes are there below one million?"
   ]
  },
  {
   "cell_type": "code",
   "execution_count": 10,
   "metadata": {},
   "outputs": [],
   "source": [
    "import math\n",
    "import numpy as np\n",
    "from numpy import linalg\n",
    "import time\n",
    "from collections import deque"
   ]
  },
  {
   "cell_type": "code",
   "execution_count": 12,
   "metadata": {},
   "outputs": [],
   "source": [
    "def primesieve(n):\n",
    "    listy = list(range(2,n+1,1))\n",
    "    x=0\n",
    "    while x < len(listy):\n",
    "        for element in listy:\n",
    "            if element!=listy[x] and element%listy[x]==0:\n",
    "                listy.remove(element)\n",
    "        x+=1\n",
    "        #print(x)\n",
    "    return listy\n",
    "#circling back many months later to this function\n",
    "#it seems i was a clever boy, it took me a second to understand what i was doing\n",
    "#probably an indicator of poor form\n",
    "#every pass of the while loop removes all the elements that are multiples of the next lowest element \n",
    "#in the list.\n",
    "#so the first pass removes all the multiples of 2 (except for 2), the next all multiples of 3, etc.\n",
    "#it's actually quite clever\n",
    "#however it still takes almost 30 seconds to retreive a list of all the primes under 100,000\n",
    "#i imagine my idea was to generate a starter list with primesieve, then to use a secondary function\n",
    "#to expand upon the list\n",
    "#still i am impressed how efficient this function is for such brief code\n",
    "#i switched np.arange().to_list to list(range()) but i am unaware of performance differences"
   ]
  },
  {
   "cell_type": "code",
   "execution_count": 128,
   "metadata": {},
   "outputs": [],
   "source": [
    "def checkprime(n):\n",
    "    if n==1:\n",
    "        return False\n",
    "    if n==2:\n",
    "        return True\n",
    "    for i in range(2,math.ceil(math.sqrt(n))+1):\n",
    "        if n%i==0:\n",
    "            return False\n",
    "    return True"
   ]
  },
  {
   "cell_type": "code",
   "execution_count": 11,
   "metadata": {},
   "outputs": [],
   "source": [
    "def primegenerator(n):\n",
    "    listy = [2,3,5,7]\n",
    "    x = 9\n",
    "    while listy[len(listy)-1]<=n:\n",
    "        listy+=[x]\n",
    "        for i in range(0,len(listy)-1):\n",
    "            if x%listy[i]==0:\n",
    "                listy.remove(x)\n",
    "                break\n",
    "        \n",
    "        x+=2\n",
    "    return listy"
   ]
  },
  {
   "cell_type": "code",
   "execution_count": 114,
   "metadata": {},
   "outputs": [
    {
     "name": "stdout",
     "output_type": "stream",
     "text": [
      "9592\n",
      "28.1875 sec\n"
     ]
    }
   ],
   "source": [
    "start = time.process_time()\n",
    "prime_list_1 = primesieve(100000)\n",
    "#print(a)\n",
    "print(len(prime_list_1))\n",
    "end = time.process_time()\n",
    "print(end - start, 'sec')"
   ]
  },
  {
   "cell_type": "code",
   "execution_count": 74,
   "metadata": {},
   "outputs": [
    {
     "data": {
      "text/plain": [
       "99991"
      ]
     },
     "execution_count": 74,
     "metadata": {},
     "output_type": "execute_result"
    }
   ],
   "source": [
    "prime_list_1[-1]"
   ]
  },
  {
   "cell_type": "code",
   "execution_count": 92,
   "metadata": {},
   "outputs": [],
   "source": [
    "def prime_list_extender(initial_list, supremum):\n",
    "    new_list = initial_list.copy()\n",
    "    for i in range(new_list[-1]+1, supremum+1):\n",
    "        on_off=0\n",
    "        for element in new_list:\n",
    "            if i%element==0:\n",
    "                on_off = 1\n",
    "                break\n",
    "        if on_off==0:\n",
    "            new_list+=[i]\n",
    "    return new_list"
   ]
  },
  {
   "cell_type": "code",
   "execution_count": 115,
   "metadata": {},
   "outputs": [
    {
     "data": {
      "text/plain": [
       "[2, 3, 5, 7, 11, 13, 17, 19, 23, 29]"
      ]
     },
     "execution_count": 115,
     "metadata": {},
     "output_type": "execute_result"
    }
   ],
   "source": [
    "prime_list_2 = primesieve(30)\n",
    "prime_list_2"
   ]
  },
  {
   "cell_type": "code",
   "execution_count": 116,
   "metadata": {},
   "outputs": [
    {
     "data": {
      "text/plain": [
       "25"
      ]
     },
     "execution_count": 116,
     "metadata": {},
     "output_type": "execute_result"
    }
   ],
   "source": [
    "#seems to work, now lets try bigger lists\n",
    "len(prime_list_extender(prime_list_2,100))"
   ]
  },
  {
   "cell_type": "code",
   "execution_count": 117,
   "metadata": {},
   "outputs": [
    {
     "data": {
      "text/plain": [
       "9592"
      ]
     },
     "execution_count": 117,
     "metadata": {},
     "output_type": "execute_result"
    }
   ],
   "source": [
    "len(prime_list_1)\n"
   ]
  },
  {
   "cell_type": "code",
   "execution_count": 118,
   "metadata": {},
   "outputs": [
    {
     "name": "stdout",
     "output_type": "stream",
     "text": [
      "135.53125 sec\n"
     ]
    }
   ],
   "source": [
    "start = time.process_time()\n",
    "prime_list_3 = prime_list_extender(prime_list_1,1000000)\n",
    "len(prime_list_3)\n",
    "end = time.process_time()\n",
    "print(end - start, 'sec')"
   ]
  },
  {
   "cell_type": "code",
   "execution_count": 119,
   "metadata": {},
   "outputs": [
    {
     "data": {
      "text/plain": [
       "78498"
      ]
     },
     "execution_count": 119,
     "metadata": {},
     "output_type": "execute_result"
    }
   ],
   "source": [
    "len(prime_list_3)"
   ]
  },
  {
   "cell_type": "code",
   "execution_count": null,
   "metadata": {},
   "outputs": [],
   "source": [
    "#soooo....that worked perfectly...sweet...."
   ]
  },
  {
   "cell_type": "code",
   "execution_count": 52,
   "metadata": {},
   "outputs": [],
   "source": [
    "def checkcircular(n):\n",
    "    len_a = len(str(n))\n",
    "    a = n\n",
    "    for i in range(0, len_a):\n",
    "        a = rotate_int(a)\n",
    "        if checkprime(a)==False:\n",
    "            return False\n",
    "    return True"
   ]
  },
  {
   "cell_type": "code",
   "execution_count": 43,
   "metadata": {},
   "outputs": [],
   "source": [
    "def rotate_int(n):\n",
    "    a = deque(str(n))\n",
    "    len_a = len(str(n))\n",
    "    a.rotate(1)\n",
    "    b = ''\n",
    "    for i in range(0,len_a):\n",
    "        b+=a[i]\n",
    "    return int(b)"
   ]
  },
  {
   "cell_type": "code",
   "execution_count": 120,
   "metadata": {},
   "outputs": [
    {
     "name": "stdout",
     "output_type": "stream",
     "text": [
      "43\n"
     ]
    }
   ],
   "source": [
    "circular_list_1 = []\n",
    "for element in prime_list_1:\n",
    "    if checkcircular(element)==True:\n",
    "        circular_list_1+=[element]\n",
    "print(len(circular_list_1))"
   ]
  },
  {
   "cell_type": "code",
   "execution_count": 121,
   "metadata": {},
   "outputs": [
    {
     "name": "stdout",
     "output_type": "stream",
     "text": [
      "55\n"
     ]
    }
   ],
   "source": [
    "circular_list_2 = []\n",
    "for element in prime_list_3:\n",
    "    if checkcircular(element)==True:\n",
    "        circular_list_2+=[element]\n",
    "print(len(circular_list_2))"
   ]
  },
  {
   "cell_type": "code",
   "execution_count": 122,
   "metadata": {},
   "outputs": [
    {
     "name": "stdout",
     "output_type": "stream",
     "text": [
      "[2, 3, 5, 7, 11, 13, 17, 31, 37, 71, 73, 79, 97, 113, 131, 197, 199, 311, 337, 373, 719, 733, 919, 971, 991, 1193, 1931, 3119, 3779, 7793, 7937, 9311, 9377, 11939, 19391, 19937, 37199, 39119, 71993, 91193, 93719, 93911, 99371]\n"
     ]
    }
   ],
   "source": [
    "print(circular_list_1)"
   ]
  },
  {
   "cell_type": "code",
   "execution_count": 123,
   "metadata": {},
   "outputs": [
    {
     "name": "stdout",
     "output_type": "stream",
     "text": [
      "[2, 3, 5, 7, 11, 13, 17, 31, 37, 71, 73, 79, 97, 113, 131, 197, 199, 311, 337, 373, 719, 733, 919, 971, 991, 1193, 1931, 3119, 3779, 7793, 7937, 9311, 9377, 11939, 19391, 19937, 37199, 39119, 71993, 91193, 93719, 93911, 99371, 193939, 199933, 319993, 331999, 391939, 393919, 919393, 933199, 939193, 939391, 993319, 999331]\n"
     ]
    }
   ],
   "source": [
    "print(circular_list_2)"
   ]
  },
  {
   "cell_type": "code",
   "execution_count": 42,
   "metadata": {},
   "outputs": [
    {
     "data": {
      "text/plain": [
       "'312'"
      ]
     },
     "execution_count": 42,
     "metadata": {},
     "output_type": "execute_result"
    }
   ],
   "source": [
    "n = 123\n",
    "a = deque(str(n))\n",
    "len_a = len(str(n))\n",
    "a.rotate(1)\n",
    "#a\n",
    "#len_a\n",
    "b = ''\n",
    "for i in range(0,len_a):\n",
    "    b+=a[i]\n",
    "b"
   ]
  },
  {
   "cell_type": "code",
   "execution_count": null,
   "metadata": {},
   "outputs": [],
   "source": [
    "b = ''\n",
    "for i in range(0,len_a):\n",
    "    b+=a[i]\n",
    "b"
   ]
  },
  {
   "cell_type": "code",
   "execution_count": 95,
   "metadata": {},
   "outputs": [
    {
     "data": {
      "text/plain": [
       "\"\\nstart = time.process_time()\\nb = primesieve(1000000)\\nprint(len(b))\\nend = time.process_time()\\nprint(end - start, 'sec')\\n\""
      ]
     },
     "execution_count": 95,
     "metadata": {},
     "output_type": "execute_result"
    }
   ],
   "source": [
    "'''\n",
    "start = time.process_time()\n",
    "b = primesieve(1000000)\n",
    "print(len(b))\n",
    "end = time.process_time()\n",
    "print(end - start, 'sec')\n",
    "'''"
   ]
  },
  {
   "cell_type": "markdown",
   "metadata": {},
   "source": [
    "for large n, primesieve could maybe be improved by limiting divisibility checks to multiples of x, ....but this presents its own challenges due to primesieve's indexing method....\n",
    "\n",
    "instead i reduced runtime by using a new function called prime_list_extender()"
   ]
  },
  {
   "cell_type": "code",
   "execution_count": 4,
   "metadata": {},
   "outputs": [
    {
     "name": "stdout",
     "output_type": "stream",
     "text": [
      "deque(['a', 'b', 'c', 'd', 'e', 'f', 'g', 'h', 'i', 'j', 'k', 'l', 'm', 'n', 'o', 'p', 'q', 'r', 's', 't', 'u', 'v', 'w', 'x', 'y', 'z'])\n"
     ]
    }
   ],
   "source": [
    "stringy = deque('abcdefghijklmnopqrstuvwxyz')\n",
    "print(stringy)"
   ]
  },
  {
   "cell_type": "code",
   "execution_count": 5,
   "metadata": {},
   "outputs": [
    {
     "name": "stdout",
     "output_type": "stream",
     "text": [
      "deque(['b', 'c', 'd', 'e', 'f', 'g', 'h', 'i', 'j', 'k', 'l', 'm', 'n', 'o', 'p', 'q', 'r', 's', 't', 'u', 'v', 'w', 'x', 'y', 'z', 'a'])\n"
     ]
    }
   ],
   "source": [
    "stringy.rotate(-1)\n",
    "print(stringy)"
   ]
  },
  {
   "cell_type": "code",
   "execution_count": 6,
   "metadata": {},
   "outputs": [
    {
     "name": "stdout",
     "output_type": "stream",
     "text": [
      "deque(['1', '2', '3'])\n",
      "deque(['3', '1', '2'])\n",
      "deque(['2', '3', '1'])\n"
     ]
    }
   ],
   "source": [
    "a = 123\n",
    "b = deque(str(a))\n",
    "print(b)\n",
    "b.rotate(1)\n",
    "print(b)\n",
    "b.rotate(1)\n",
    "print(b)"
   ]
  },
  {
   "cell_type": "markdown",
   "metadata": {},
   "source": [
    "Problem 37 - Truncatable Primes\n",
    "\n",
    "The number 3797 has an interesting property. Being prime itself, it is possible to continuously remove digits from left to right, and remain prime at each stage: 3797, 797, 97, and 7. Similarly we can work from right to left: 3797, 379, 37, and 3.\n",
    "\n",
    "Find the sum of the only eleven primes that are both truncatable from left to right and right to left.\n",
    "\n",
    "NOTE: 2, 3, 5, and 7 are not considered to be truncatable primes."
   ]
  },
  {
   "cell_type": "code",
   "execution_count": 101,
   "metadata": {},
   "outputs": [
    {
     "data": {
      "text/plain": [
       "3"
      ]
     },
     "execution_count": 101,
     "metadata": {},
     "output_type": "execute_result"
    }
   ],
   "source": [
    "n = 3797\n",
    "a = deque(str(n))\n",
    "a.popleft()\n",
    "a\n",
    "len(a)"
   ]
  },
  {
   "cell_type": "code",
   "execution_count": 99,
   "metadata": {},
   "outputs": [
    {
     "data": {
      "text/plain": [
       "deque(['3', '7'])"
      ]
     },
     "execution_count": 99,
     "metadata": {},
     "output_type": "execute_result"
    }
   ],
   "source": [
    "a.pop()\n",
    "a"
   ]
  },
  {
   "cell_type": "code",
   "execution_count": 106,
   "metadata": {},
   "outputs": [],
   "source": [
    "def truncatable(n):\n",
    "    a = deque(str(n))\n",
    "    b = deque(str(n))\n",
    "    while len(a)>1:\n",
    "        a.pop()\n",
    "        a_string = ''\n",
    "        for element in a:\n",
    "            a_string += element\n",
    "        if checkprime(int(a_string))==False:\n",
    "            return False\n",
    "    while len(b)>1:\n",
    "        b.popleft()\n",
    "        b_string = ''\n",
    "        for element in b:\n",
    "            b_string += element\n",
    "        if checkprime(int(b_string))==False:\n",
    "            return False\n",
    "    return True"
   ]
  },
  {
   "cell_type": "code",
   "execution_count": 111,
   "metadata": {},
   "outputs": [
    {
     "data": {
      "text/plain": [
       "True"
      ]
     },
     "execution_count": 111,
     "metadata": {},
     "output_type": "execute_result"
    }
   ],
   "source": [
    "truncatable(7)"
   ]
  },
  {
   "cell_type": "code",
   "execution_count": 113,
   "metadata": {},
   "outputs": [
    {
     "data": {
      "text/plain": [
       "78498"
      ]
     },
     "execution_count": 113,
     "metadata": {},
     "output_type": "execute_result"
    }
   ],
   "source": [
    "len(prime_list_1)"
   ]
  },
  {
   "cell_type": "code",
   "execution_count": 133,
   "metadata": {},
   "outputs": [
    {
     "name": "stdout",
     "output_type": "stream",
     "text": [
      "[2, 3, 5, 7, 23, 37, 53, 73, 313, 317, 373, 797, 3137, 3797, 739397]\n",
      "15\n"
     ]
    }
   ],
   "source": [
    "truncatables_list = []\n",
    "while len(truncatables_list)<15:\n",
    "    for element in prime_list_3:\n",
    "        if truncatable(element)==True:\n",
    "            truncatables_list+=[element]\n",
    "print(truncatables_list)\n",
    "print(len(truncatables_list))"
   ]
  },
  {
   "cell_type": "code",
   "execution_count": 130,
   "metadata": {},
   "outputs": [
    {
     "name": "stdout",
     "output_type": "stream",
     "text": [
      "[2, 3, 5, 7, 23, 37, 53, 73, 313, 317, 373, 797, 3137, 3797]\n",
      "14\n"
     ]
    }
   ],
   "source": [
    "truncatables_list_2 = []\n",
    "for element in prime_list_1:\n",
    "    if truncatable(element)==True:\n",
    "        truncatables_list_2+=[element]\n",
    "print(truncatables_list_2)\n",
    "print(len(truncatables_list_2))"
   ]
  },
  {
   "cell_type": "code",
   "execution_count": 136,
   "metadata": {},
   "outputs": [
    {
     "name": "stdout",
     "output_type": "stream",
     "text": [
      "[23, 37, 53, 73, 313, 317, 373, 797, 3137, 3797, 739397]\n",
      "11\n"
     ]
    }
   ],
   "source": [
    "for i in range(0,4): truncatables_list.pop(0)\n",
    "print(truncatables_list)\n",
    "print(len(truncatables_list))"
   ]
  },
  {
   "cell_type": "code",
   "execution_count": 137,
   "metadata": {},
   "outputs": [
    {
     "name": "stdout",
     "output_type": "stream",
     "text": [
      "748317\n"
     ]
    }
   ],
   "source": [
    "print(sum(truncatables_list))"
   ]
  },
  {
   "cell_type": "code",
   "execution_count": 132,
   "metadata": {},
   "outputs": [
    {
     "ename": "AttributeError",
     "evalue": "'list' object has no attribute 'popleft'",
     "output_type": "error",
     "traceback": [
      "\u001b[1;31m---------------------------------------------------------------------------\u001b[0m",
      "\u001b[1;31mAttributeError\u001b[0m                            Traceback (most recent call last)",
      "\u001b[1;32m<ipython-input-132-299e1ad4813e>\u001b[0m in \u001b[0;36m<module>\u001b[1;34m\u001b[0m\n\u001b[1;32m----> 1\u001b[1;33m \u001b[1;32mfor\u001b[0m \u001b[0mi\u001b[0m \u001b[1;32min\u001b[0m \u001b[0mrange\u001b[0m\u001b[1;33m(\u001b[0m\u001b[1;36m0\u001b[0m\u001b[1;33m,\u001b[0m\u001b[1;36m4\u001b[0m\u001b[1;33m)\u001b[0m\u001b[1;33m:\u001b[0m \u001b[0mtruncatables_list_2\u001b[0m\u001b[1;33m.\u001b[0m\u001b[0mpopleft\u001b[0m\u001b[1;33m(\u001b[0m\u001b[1;33m)\u001b[0m\u001b[1;33m\u001b[0m\u001b[1;33m\u001b[0m\u001b[0m\n\u001b[0m\u001b[0;32m      2\u001b[0m \u001b[0mprint\u001b[0m\u001b[1;33m(\u001b[0m\u001b[0mlen\u001b[0m\u001b[1;33m(\u001b[0m\u001b[0mtruncatables_list_2\u001b[0m\u001b[1;33m)\u001b[0m\u001b[1;33m)\u001b[0m\u001b[1;33m\u001b[0m\u001b[1;33m\u001b[0m\u001b[0m\n",
      "\u001b[1;31mAttributeError\u001b[0m: 'list' object has no attribute 'popleft'"
     ]
    }
   ],
   "source": [
    "for i in range(0,4): truncatables_list_2.popleft()\n",
    "print(len(truncatables_list_2))"
   ]
  },
  {
   "cell_type": "code",
   "execution_count": 135,
   "metadata": {},
   "outputs": [
    {
     "data": {
      "text/plain": [
       "[2, 3, 4, 5, 6, 7, 8, 9]"
      ]
     },
     "execution_count": 135,
     "metadata": {},
     "output_type": "execute_result"
    }
   ],
   "source": [
    "listy = [1,2,3,4,5,6,7,8,9]\n",
    "listy.pop(0)\n",
    "listy"
   ]
  },
  {
   "cell_type": "code",
   "execution_count": null,
   "metadata": {},
   "outputs": [],
   "source": []
  }
 ],
 "metadata": {
  "kernelspec": {
   "display_name": "Python 3",
   "language": "python",
   "name": "python3"
  },
  "language_info": {
   "codemirror_mode": {
    "name": "ipython",
    "version": 3
   },
   "file_extension": ".py",
   "mimetype": "text/x-python",
   "name": "python",
   "nbconvert_exporter": "python",
   "pygments_lexer": "ipython3",
   "version": "3.7.6"
  }
 },
 "nbformat": 4,
 "nbformat_minor": 4
}
