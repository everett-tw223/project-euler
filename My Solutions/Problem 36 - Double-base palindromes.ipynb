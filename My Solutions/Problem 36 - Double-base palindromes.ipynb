{
 "cells": [
  {
   "cell_type": "markdown",
   "metadata": {},
   "source": [
    "Double-base palindromes\n",
    "  \n",
    "Problem 36\n",
    "\n",
    "The decimal number, 585 = 1001001001 (binary), is palindromic in both bases.\n",
    "\n",
    "Find the sum of all numbers, less than one million, which are palindromic in base 10 and base 2.\n",
    "\n",
    "(Please note that the palindromic number, in either base, may not include leading zeros.)"
   ]
  },
  {
   "cell_type": "code",
   "execution_count": 37,
   "metadata": {},
   "outputs": [],
   "source": [
    "def dectobin(x):\n",
    "    bin1 = ''\n",
    "    i = 0\n",
    "    while x > 2**i:\n",
    "        i+=1\n",
    "    while i>-1:\n",
    "        if x >= 2**i:\n",
    "            bin1+='1'\n",
    "            x = x - 2**i\n",
    "        else:\n",
    "            bin1+='0'\n",
    "        i-=1\n",
    "    return int(bin1)"
   ]
  },
  {
   "cell_type": "code",
   "execution_count": 44,
   "metadata": {},
   "outputs": [
    {
     "name": "stdout",
     "output_type": "stream",
     "text": [
      "1001001001\n"
     ]
    }
   ],
   "source": [
    "print(dectobin(585))"
   ]
  },
  {
   "cell_type": "code",
   "execution_count": 39,
   "metadata": {},
   "outputs": [],
   "source": [
    "def ispalindrome(n):\n",
    "    a = str(n)\n",
    "    b = []\n",
    "    for i in range(0,int(len(a)/2)):\n",
    "        if a[i]!=a[len(a)-1-i]:\n",
    "            return False\n",
    "        else:\n",
    "            b+= [True]\n",
    "    if all(b)==True:\n",
    "        return True\n",
    "        "
   ]
  },
  {
   "cell_type": "code",
   "execution_count": 40,
   "metadata": {},
   "outputs": [
    {
     "name": "stdout",
     "output_type": "stream",
     "text": [
      "585\n",
      "1001001001\n",
      "True\n",
      "True\n"
     ]
    }
   ],
   "source": [
    "a = dectobin(585)\n",
    "print(585)\n",
    "print(a)\n",
    "print(ispalindrome(585))\n",
    "print(ispalindrome(a))"
   ]
  },
  {
   "cell_type": "code",
   "execution_count": 42,
   "metadata": {},
   "outputs": [
    {
     "name": "stdout",
     "output_type": "stream",
     "text": [
      "[1, 3, 5, 7, 9, 33, 99, 313, 585, 717, 7447, 9009, 15351, 32223, 39993, 53235, 53835, 73737, 585585]\n"
     ]
    }
   ],
   "source": [
    "listy=[]\n",
    "for i in range(1,1000000):\n",
    "    if ispalindrome(i)==True and ispalindrome(dectobin(i))==True:\n",
    "        listy+=[i]\n",
    "print(listy)"
   ]
  },
  {
   "cell_type": "code",
   "execution_count": 45,
   "metadata": {},
   "outputs": [
    {
     "name": "stdout",
     "output_type": "stream",
     "text": [
      "Sum of all double-base palindromes under one million: 872187\n"
     ]
    }
   ],
   "source": [
    "print('Sum of all double-base palindromes under one million:', sum(listy))"
   ]
  },
  {
   "cell_type": "code",
   "execution_count": null,
   "metadata": {},
   "outputs": [],
   "source": []
  }
 ],
 "metadata": {
  "kernelspec": {
   "display_name": "Python 3",
   "language": "python",
   "name": "python3"
  },
  "language_info": {
   "codemirror_mode": {
    "name": "ipython",
    "version": 3
   },
   "file_extension": ".py",
   "mimetype": "text/x-python",
   "name": "python",
   "nbconvert_exporter": "python",
   "pygments_lexer": "ipython3",
   "version": "3.7.6"
  }
 },
 "nbformat": 4,
 "nbformat_minor": 2
}
