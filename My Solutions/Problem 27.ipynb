{
 "cells": [
  {
   "cell_type": "markdown",
   "metadata": {},
   "source": [
    "Problem 27"
   ]
  },
  {
   "cell_type": "code",
   "execution_count": 1,
   "metadata": {},
   "outputs": [],
   "source": [
    "import numpy as np\n",
    "from numpy import linalg\n",
    "import math\n",
    "import copy"
   ]
  },
  {
   "cell_type": "code",
   "execution_count": 2,
   "metadata": {},
   "outputs": [],
   "source": [
    "#alright well....i don't really wanna make a prime number sieve, but i suppose I'm gonna have to do it eventually\n",
    "def primesieve(n):\n",
    "    numbum = np.arange(2,n,1)\n",
    "    listy = numbum.tolist()\n",
    "    x=0\n",
    "    while x < len(listy):\n",
    "        for element in listy:\n",
    "            if element!=listy[x] and element%listy[x]==0:\n",
    "                listy.remove(element)\n",
    "        x+=1\n",
    "    return listy"
   ]
  },
  {
   "cell_type": "code",
   "execution_count": 3,
   "metadata": {},
   "outputs": [
    {
     "name": "stdout",
     "output_type": "stream",
     "text": [
      "[2 3 4 5 6 7 8 9]\n"
     ]
    }
   ],
   "source": [
    "print(np.arange(2,10,1))"
   ]
  },
  {
   "cell_type": "code",
   "execution_count": 4,
   "metadata": {},
   "outputs": [
    {
     "name": "stdout",
     "output_type": "stream",
     "text": [
      "[2, 3, 5, 7, 11, 13, 17, 19, 23, 29, 31, 37, 41, 43, 47, 53, 59, 61, 67, 71, 73, 79, 83, 89, 97]\n"
     ]
    }
   ],
   "source": [
    "print(primesieve(100))"
   ]
  },
  {
   "cell_type": "code",
   "execution_count": 5,
   "metadata": {},
   "outputs": [
    {
     "name": "stdout",
     "output_type": "stream",
     "text": [
      "25\n"
     ]
    }
   ],
   "source": [
    "print(len(primesieve(100)))"
   ]
  },
  {
   "cell_type": "code",
   "execution_count": 6,
   "metadata": {},
   "outputs": [],
   "source": [
    "#sweetsweet now we have a working prime sieve, its not the most powerful but it works"
   ]
  },
  {
   "cell_type": "code",
   "execution_count": 7,
   "metadata": {},
   "outputs": [
    {
     "name": "stdout",
     "output_type": "stream",
     "text": [
      "168\n"
     ]
    }
   ],
   "source": [
    "print(len(primesieve(1000)))"
   ]
  },
  {
   "cell_type": "code",
   "execution_count": 9,
   "metadata": {},
   "outputs": [
    {
     "ename": "KeyboardInterrupt",
     "evalue": "",
     "output_type": "error",
     "traceback": [
      "\u001b[1;31m---------------------------------------------------------------------------\u001b[0m",
      "\u001b[1;31mKeyboardInterrupt\u001b[0m                         Traceback (most recent call last)",
      "\u001b[1;32m<ipython-input-9-2da3b837a7ef>\u001b[0m in \u001b[0;36m<module>\u001b[1;34m\u001b[0m\n\u001b[1;32m----> 1\u001b[1;33m \u001b[0mlistoprimes\u001b[0m \u001b[1;33m=\u001b[0m \u001b[0mprimesieve\u001b[0m\u001b[1;33m(\u001b[0m\u001b[1;36m1000000\u001b[0m\u001b[1;33m)\u001b[0m\u001b[1;33m\u001b[0m\u001b[1;33m\u001b[0m\u001b[0m\n\u001b[0m",
      "\u001b[1;32m<ipython-input-2-4c4d61ead0a1>\u001b[0m in \u001b[0;36mprimesieve\u001b[1;34m(n)\u001b[0m\n\u001b[0;32m      7\u001b[0m         \u001b[1;32mfor\u001b[0m \u001b[0melement\u001b[0m \u001b[1;32min\u001b[0m \u001b[0mlisty\u001b[0m\u001b[1;33m:\u001b[0m\u001b[1;33m\u001b[0m\u001b[1;33m\u001b[0m\u001b[0m\n\u001b[0;32m      8\u001b[0m             \u001b[1;32mif\u001b[0m \u001b[0melement\u001b[0m\u001b[1;33m!=\u001b[0m\u001b[0mlisty\u001b[0m\u001b[1;33m[\u001b[0m\u001b[0mx\u001b[0m\u001b[1;33m]\u001b[0m \u001b[1;32mand\u001b[0m \u001b[0melement\u001b[0m\u001b[1;33m%\u001b[0m\u001b[0mlisty\u001b[0m\u001b[1;33m[\u001b[0m\u001b[0mx\u001b[0m\u001b[1;33m]\u001b[0m\u001b[1;33m==\u001b[0m\u001b[1;36m0\u001b[0m\u001b[1;33m:\u001b[0m\u001b[1;33m\u001b[0m\u001b[1;33m\u001b[0m\u001b[0m\n\u001b[1;32m----> 9\u001b[1;33m                 \u001b[0mlisty\u001b[0m\u001b[1;33m.\u001b[0m\u001b[0mremove\u001b[0m\u001b[1;33m(\u001b[0m\u001b[0melement\u001b[0m\u001b[1;33m)\u001b[0m\u001b[1;33m\u001b[0m\u001b[1;33m\u001b[0m\u001b[0m\n\u001b[0m\u001b[0;32m     10\u001b[0m         \u001b[0mx\u001b[0m\u001b[1;33m+=\u001b[0m\u001b[1;36m1\u001b[0m\u001b[1;33m\u001b[0m\u001b[1;33m\u001b[0m\u001b[0m\n\u001b[0;32m     11\u001b[0m     \u001b[1;32mreturn\u001b[0m \u001b[0mlisty\u001b[0m\u001b[1;33m\u001b[0m\u001b[1;33m\u001b[0m\u001b[0m\n",
      "\u001b[1;31mKeyboardInterrupt\u001b[0m: "
     ]
    }
   ],
   "source": [
    "listoprimes = primesieve(1000000)"
   ]
  },
  {
   "cell_type": "code",
   "execution_count": null,
   "metadata": {},
   "outputs": [],
   "source": [
    "#at n = 100,000 my function starts to lag quite a bit, still it seems to work alright\n",
    "#now lets get to the problem at hand"
   ]
  },
  {
   "cell_type": "code",
   "execution_count": 31,
   "metadata": {},
   "outputs": [],
   "source": [
    "def specialquadratic(a,b):\n",
    "    n = 0\n",
    "    listy = [] \n",
    "    while ((n**2 + (a*n) + b) in listoprimes)==True:\n",
    "        listy += [n**2 + (a*n) + b]\n",
    "        n+=1\n",
    "    return len(listy)"
   ]
  },
  {
   "cell_type": "code",
   "execution_count": 32,
   "metadata": {},
   "outputs": [
    {
     "name": "stdout",
     "output_type": "stream",
     "text": [
      "40\n"
     ]
    }
   ],
   "source": [
    "print(specialquadratic(1,41))"
   ]
  },
  {
   "cell_type": "code",
   "execution_count": 34,
   "metadata": {},
   "outputs": [
    {
     "name": "stdout",
     "output_type": "stream",
     "text": [
      "alakazam\n",
      "80\n"
     ]
    }
   ],
   "source": [
    "if (41 in listoprimes)==True:\n",
    "    print('alakazam')\n",
    "print(specialquadratic(-79,1601))"
   ]
  },
  {
   "cell_type": "code",
   "execution_count": 48,
   "metadata": {
    "scrolled": true
   },
   "outputs": [
    {
     "name": "stdout",
     "output_type": "stream",
     "text": [
      "-999 2 1\n",
      "-1 2 2\n",
      "-2 3 3\n",
      "-3 5 4\n",
      "-1 5 5\n",
      "-3 7 6\n",
      "-5 11 7\n",
      "-1 11 11\n",
      "-3 13 12\n",
      "-5 17 13\n",
      "-1 17 17\n",
      "-3 19 18\n",
      "-5 23 19\n",
      "-7 29 20\n",
      "-9 37 21\n",
      "-1 41 41\n",
      "-3 43 42\n",
      "-5 47 43\n",
      "-7 53 44\n",
      "-9 61 45\n",
      "-11 71 46\n",
      "-13 83 47\n",
      "-15 97 48\n",
      "-17 113 49\n",
      "-19 131 50\n",
      "-21 151 51\n",
      "-23 173 52\n",
      "-25 197 53\n",
      "-27 223 54\n",
      "-29 251 55\n",
      "-31 281 56\n",
      "-33 313 57\n",
      "-35 347 58\n",
      "-37 383 59\n",
      "-39 421 60\n",
      "-41 461 61\n",
      "-43 503 62\n",
      "-45 547 63\n",
      "-47 593 64\n",
      "-49 641 65\n",
      "-51 691 66\n",
      "-53 743 67\n",
      "-55 797 68\n",
      "-57 853 69\n",
      "-59 911 70\n",
      "-61 971 71\n",
      "71\n",
      "-59231\n"
     ]
    }
   ],
   "source": [
    "greatestlen = 0 \n",
    "greatestprod = 0\n",
    "for b in primesieve(1000):\n",
    "    for a in range (-999,1000):\n",
    "        c = specialquadratic(a,b)\n",
    "        if c>greatestlen:\n",
    "            greatestlen= c\n",
    "            greatestprod = a*b\n",
    "            print(a,b,greatestlen)\n",
    "print(greatestlen)\n",
    "print(greatestprod)"
   ]
  },
  {
   "cell_type": "code",
   "execution_count": 46,
   "metadata": {},
   "outputs": [
    {
     "name": "stdout",
     "output_type": "stream",
     "text": [
      "1681\n"
     ]
    }
   ],
   "source": [
    "print(971-(61*71)+71**2)"
   ]
  },
  {
   "cell_type": "code",
   "execution_count": 42,
   "metadata": {},
   "outputs": [],
   "source": [
    "#lets look at someone else's solution"
   ]
  },
  {
   "cell_type": "code",
   "execution_count": 44,
   "metadata": {},
   "outputs": [
    {
     "name": "stdout",
     "output_type": "stream",
     "text": [
      "[2, -996, 997]\n",
      "[3, -499, 997]\n",
      "[4, -321, 997]\n",
      "[5, 219, 997]\n",
      "[6, 285, 997]\n",
      "[7, 489, 997]\n",
      "[10, 463, 983]\n",
      "[71, -61, 971]\n"
     ]
    }
   ],
   "source": [
    "def prime(num):\n",
    "    if num <= 1:\n",
    "        return False\n",
    "    if num == 2 or num == 3 or num == 5:\n",
    "        return True\n",
    "    if num % 2 == 0  or num % 3 == 0 or num % 5 == 0:\n",
    "        return False\n",
    "    for i in range(7, int(num**0.5) + 1, 2):\n",
    "        if num % i == 0:\n",
    "            return False\n",
    "    return True\n",
    "\n",
    "max = 1\n",
    "\n",
    "for b in range(1000, 1, -1):\n",
    "    if prime(b):\n",
    "        for a in range(int((2-b-max*max)/max) , 1000):\n",
    "            n = 0\n",
    "            while prime(n*n + n * a + b):\n",
    "                n += 1\n",
    "            if n > max:\n",
    "                max = n\n",
    "                print([n, a, b])"
   ]
  },
  {
   "cell_type": "code",
   "execution_count": 1,
   "metadata": {},
   "outputs": [],
   "source": [
    "#so i guess this guy neglected the possibility of negative primes, which i did implicitly by checking primeness \n",
    "#my sieve of positive primes, so redundant to include negative b values in my for loop since i neglected negative\n",
    "#primes in my sieve. \n",
    "#he only checked for prime bs, which makes sense. its basically the same just with better parameters. \n",
    "#switching the order of the for loops was a good idea also.\n"
   ]
  },
  {
   "cell_type": "code",
   "execution_count": 2,
   "metadata": {},
   "outputs": [],
   "source": [
    "#lets look at one more "
   ]
  },
  {
   "cell_type": "code",
   "execution_count": 3,
   "metadata": {},
   "outputs": [
    {
     "name": "stdout",
     "output_type": "stream",
     "text": [
      "-61 971 71 -59231\n",
      "3.9202250000000007 sec\n"
     ]
    }
   ],
   "source": [
    "import time\n",
    "start = time.process_time()\n",
    "\n",
    "from pylab import *\n",
    "from sympy.ntheory.primetest import isprime\n",
    "\n",
    "d = {(a, b):0 for a in range(-999, 1000, 2) for b in range(-999, 1001, 2)}\n",
    "\n",
    "for k, v in d.items():\n",
    "    n = 0\n",
    "    a, b = k\n",
    "    \n",
    "    f = b\n",
    "    if isprime(f):\n",
    "        while isprime(f):\n",
    "            f += n + n + a + 1 \n",
    "            n += 1\n",
    "        d[(a, b)] = n\n",
    "    #print(a, b, d[(a, b)])\n",
    "\n",
    "    \n",
    "a, b = max(d, key=lambda x: d[x])\n",
    "print(a, b, d[(a, b)], a * b)\n",
    "\n",
    "end = time.process_time()\n",
    "print(end - start, 'sec')"
   ]
  },
  {
   "cell_type": "code",
   "execution_count": null,
   "metadata": {},
   "outputs": [],
   "source": [
    "#the first thing i noticed is that my runtime was about twice as long as the posters listed runtime.\n",
    "#that might mean he had a better computer than me but who knows\n",
    "#the second thing is that he is using sets\n",
    "#ill have to look up some set notation in python"
   ]
  }
 ],
 "metadata": {
  "kernelspec": {
   "display_name": "Python 3",
   "language": "python",
   "name": "python3"
  },
  "language_info": {
   "codemirror_mode": {
    "name": "ipython",
    "version": 3
   },
   "file_extension": ".py",
   "mimetype": "text/x-python",
   "name": "python",
   "nbconvert_exporter": "python",
   "pygments_lexer": "ipython3",
   "version": "3.7.6"
  }
 },
 "nbformat": 4,
 "nbformat_minor": 2
}
