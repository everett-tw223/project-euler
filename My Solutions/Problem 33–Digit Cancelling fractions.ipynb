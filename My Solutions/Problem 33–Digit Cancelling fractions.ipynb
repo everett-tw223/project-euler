{
 "cells": [
  {
   "cell_type": "markdown",
   "metadata": {},
   "source": [
    "Problem 33–Digit Cancelling fractions"
   ]
  },
  {
   "cell_type": "markdown",
   "metadata": {},
   "source": [
    "The fraction 49/98 is a curious fraction, as an inexperienced mathematician in attempting to simplify it may incorrectly believe that 49/98 = 4/8, which is correct, is obtained by cancelling the 9s.\n",
    "\n",
    "We shall consider fractions like, 30/50 = 3/5, to be trivial examples.\n",
    "\n",
    "There are exactly four non-trivial examples of this type of fraction, less than one in value, and containing two digits in the numerator and denominator.\n",
    "\n",
    "If the product of these four fractions is given in its lowest common terms, find the value of the denominator."
   ]
  },
  {
   "cell_type": "code",
   "execution_count": 3,
   "metadata": {},
   "outputs": [
    {
     "name": "stdout",
     "output_type": "stream",
     "text": [
      "[[10. 10. 10. 10. 10. 10. 10. 10. 16. 19. 20. 20. 20. 20. 20. 20. 20. 26.\n",
      "  30. 30. 30. 30. 30. 30. 40. 40. 40. 40. 40. 49. 50. 50. 50. 50. 60. 60.\n",
      "  60. 70. 70. 80.]\n",
      " [20. 30. 40. 50. 60. 70. 80. 90. 64. 95. 30. 40. 50. 60. 70. 80. 90. 65.\n",
      "  40. 50. 60. 70. 80. 90. 50. 60. 70. 80. 90. 98. 60. 70. 80. 90. 70. 80.\n",
      "  90. 80. 90. 90.]]\n"
     ]
    }
   ],
   "source": [
    "import numpy as np\n",
    "from numpy import linalg\n",
    "listy = np.array([[],[]])\n",
    "for i in range(10,100):\n",
    "    for j in range(10,100):\n",
    "        if j>i:\n",
    "            if str(i)[0]==str(j)[0] and int(str(i)[1])/int(str(j)[1])==i/j:\n",
    "                listy = np.hstack([listy,np.array([[i],[j]])])\n",
    "            elif str(i)[0]==str(j)[1] and int(str(j)[0])!=0:\n",
    "                if int(str(i)[1])/int(str(j)[0])==i/j:\n",
    "                    listy = np.hstack([listy,np.array([[i],[j]])])\n",
    "            elif str(i)[1]==str(j)[0] and int(str(j)[1])!=0:\n",
    "                if int(str(i)[0])/int(str(j)[1])==i/j:\n",
    "                    listy = np.hstack([listy,np.array([[i],[j]])])\n",
    "            elif str(i)[1]==str(j)[1] and int(str(j)[0])!=0:\n",
    "                if int(str(i)[0])/int(str(j)[0])==i/j:\n",
    "                    listy = np.hstack([listy,np.array([[i],[j]])])\n",
    "print(listy)"
   ]
  },
  {
   "cell_type": "code",
   "execution_count": 18,
   "metadata": {},
   "outputs": [
    {
     "name": "stdout",
     "output_type": "stream",
     "text": [
      "[[1 1 1]\n",
      " [2 3 2]]\n"
     ]
    }
   ],
   "source": [
    "listy1 = np.hstack([np.array([[1],[2]]),np.array([[1],[3]])])\n",
    "listy1 = np.hstack([listy1,np.array([[1],[2]])])\n",
    "print(listy1)"
   ]
  },
  {
   "cell_type": "code",
   "execution_count": 10,
   "metadata": {},
   "outputs": [
    {
     "name": "stdout",
     "output_type": "stream",
     "text": [
      "19\n",
      "0.4\n",
      "1848320\n",
      "[1, 4]\n",
      "[1, 5]\n",
      "[2, 5]\n",
      "[1, 2]\n"
     ]
    }
   ],
   "source": [
    "a = 16\n",
    "b = 64\n",
    "\n",
    "c = 19\n",
    "d = 95\n",
    "\n",
    "e = 26\n",
    "f = 65\n",
    "\n",
    "g = 49\n",
    "h = 98\n",
    "print(c)\n",
    "print(2/5)\n",
    "print(a*b*c*d)\n",
    "def reduce(m,n):\n",
    "    a = m\n",
    "    b = n\n",
    "    for i in range (1,m+1):\n",
    "        if m%i == 0 and n%i==0:\n",
    "            a = int(m/i)\n",
    "            b = int(n/i)\n",
    "    return ([a,b])\n",
    "print(reduce(a,b))\n",
    "print(reduce(c,d))\n",
    "print(reduce(e,f))\n",
    "print(reduce(g,h))"
   ]
  },
  {
   "cell_type": "code",
   "execution_count": 11,
   "metadata": {},
   "outputs": [
    {
     "name": "stdout",
     "output_type": "stream",
     "text": [
      "200\n"
     ]
    }
   ],
   "source": [
    "print(4*5*5*2)"
   ]
  },
  {
   "cell_type": "code",
   "execution_count": null,
   "metadata": {},
   "outputs": [],
   "source": []
  }
 ],
 "metadata": {
  "kernelspec": {
   "display_name": "Python 3",
   "language": "python",
   "name": "python3"
  },
  "language_info": {
   "codemirror_mode": {
    "name": "ipython",
    "version": 3
   },
   "file_extension": ".py",
   "mimetype": "text/x-python",
   "name": "python",
   "nbconvert_exporter": "python",
   "pygments_lexer": "ipython3",
   "version": "3.6.4"
  }
 },
 "nbformat": 4,
 "nbformat_minor": 2
}
