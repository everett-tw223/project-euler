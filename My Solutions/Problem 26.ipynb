{
 "cells": [
  {
   "cell_type": "markdown",
   "metadata": {},
   "source": [
    "Problem 26"
   ]
  },
  {
   "cell_type": "markdown",
   "metadata": {},
   "source": [
    "A unit fraction contains 1 in the numerator. The decimal representation of the unit fractions with denominators 2 to 10 are given:\n",
    "\n",
    "1/2\t= \t0.5\n",
    "\n",
    "1/3\t= \t0.(3)\n",
    "\n",
    "1/4\t= \t0.25\n",
    "\n",
    "1/5\t= \t0.2\n",
    "\n",
    "1/6\t= \t0.1(6)\n",
    "\n",
    "1/7\t= \t0.(142857)\n",
    "\n",
    "1/8\t= \t0.125\n",
    "\n",
    "1/9\t= \t0.(1)\n",
    "\n",
    "1/10\t= \t0.1\n",
    "Where 0.1(6) means 0.166666..., and has a 1-digit recurring cycle. It can be seen that 1/7 has a 6-digit recurring cycle.\n",
    "\n",
    "Find the value of d < 1000 for which 1/d contains the longest recurring cycle in its decimal fraction part."
   ]
  },
  {
   "cell_type": "code",
   "execution_count": 2,
   "metadata": {},
   "outputs": [],
   "source": [
    "#maybe here we can try some of that 'dynamic programming' ive been reading about\n",
    "#a program that combines storage with recursion to improve efficiency\n",
    "#now if i were doing this by hand, while in the process of dividing i could notice an incoming recursion\n",
    "#if i found myself dividing into a number i had already divided into for that fraction\n",
    "#but to implement that type of recognition into code i would have to create my own division function\n",
    "#...i suppose thats not impossible\n",
    "#thinking from this perspective, maybe there is an easier answer to whether there is a recurring cycle ceiling\n",
    "#my intuition tells me that there shouldnt be a repitition longer than the value of the divisor"
   ]
  },
  {
   "cell_type": "code",
   "execution_count": 17,
   "metadata": {},
   "outputs": [],
   "source": [
    "#modified long division function\n",
    "def repetitionlength(n):\n",
    "    dividend = 10**(len(str(n)))\n",
    "    listy = []\n",
    "    dividends = [0]\n",
    "    while (dividend in dividends) == False:\n",
    "        listy+=[int(dividend/n)]\n",
    "        dividends += [dividend]\n",
    "        dividend = (dividend%n)*(10**(len(str(n))))\n",
    "    return len(listy)"
   ]
  },
  {
   "cell_type": "code",
   "execution_count": 18,
   "metadata": {},
   "outputs": [
    {
     "name": "stdout",
     "output_type": "stream",
     "text": [
      "4\n"
     ]
    }
   ],
   "source": [
    "print(len(str(1000)))"
   ]
  },
  {
   "cell_type": "code",
   "execution_count": 19,
   "metadata": {},
   "outputs": [
    {
     "name": "stdout",
     "output_type": "stream",
     "text": [
      "6\n"
     ]
    }
   ],
   "source": [
    "print(repetitionlength(7))"
   ]
  },
  {
   "cell_type": "code",
   "execution_count": 20,
   "metadata": {},
   "outputs": [
    {
     "name": "stdout",
     "output_type": "stream",
     "text": [
      "slipper\n"
     ]
    }
   ],
   "source": [
    "listy1 = [1,2,3,4]\n",
    "if (1 in listy1) == True:\n",
    "    print('slipper')"
   ]
  },
  {
   "cell_type": "code",
   "execution_count": 27,
   "metadata": {},
   "outputs": [
    {
     "name": "stdout",
     "output_type": "stream",
     "text": [
      "982\n",
      "983\n"
     ]
    }
   ],
   "source": [
    "largestrep = 0\n",
    "offender = 0\n",
    "for i in range (2,1000):\n",
    "    if repetitionlength(i)>largestrep:\n",
    "        largestrep = repetitionlength(i)\n",
    "        offender = i\n",
    "print(largestrep)\n",
    "print(offender)"
   ]
  },
  {
   "cell_type": "code",
   "execution_count": 34,
   "metadata": {},
   "outputs": [
    {
     "ename": "NameError",
     "evalue": "name 'long' is not defined",
     "output_type": "error",
     "traceback": [
      "\u001b[0;31m---------------------------------------------------------------------------\u001b[0m",
      "\u001b[0;31mNameError\u001b[0m                                 Traceback (most recent call last)",
      "\u001b[0;32m<ipython-input-34-efed9b6253c3>\u001b[0m in \u001b[0;36m<module>\u001b[0;34m()\u001b[0m\n\u001b[0;32m----> 1\u001b[0;31m \u001b[0mprint\u001b[0m\u001b[0;34m(\u001b[0m\u001b[0mlong\u001b[0m\u001b[0;34m(\u001b[0m\u001b[0;34m(\u001b[0m\u001b[0;36m10\u001b[0m\u001b[0;34m**\u001b[0m\u001b[0;36m100\u001b[0m\u001b[0;34m)\u001b[0m\u001b[0;34m/\u001b[0m\u001b[0;36m983\u001b[0m\u001b[0;34m)\u001b[0m\u001b[0;34m)\u001b[0m\u001b[0;34m\u001b[0m\u001b[0m\n\u001b[0m\u001b[1;32m      2\u001b[0m \u001b[0mprint\u001b[0m\u001b[0;34m(\u001b[0m\u001b[0mrepetitionlength\u001b[0m\u001b[0;34m(\u001b[0m\u001b[0;36m983\u001b[0m\u001b[0;34m)\u001b[0m\u001b[0;34m)\u001b[0m\u001b[0;34m\u001b[0m\u001b[0m\n",
      "\u001b[0;31mNameError\u001b[0m: name 'long' is not defined"
     ]
    }
   ],
   "source": [
    "print(long((10**100)/983))\n",
    "print(repetitionlength(983))"
   ]
  },
  {
   "cell_type": "code",
   "execution_count": 35,
   "metadata": {},
   "outputs": [],
   "source": [
    "#apparently dtype = 'long' was removed in python 3 .....seems like a step backwards...."
   ]
  },
  {
   "cell_type": "code",
   "execution_count": null,
   "metadata": {},
   "outputs": [],
   "source": []
  }
 ],
 "metadata": {
  "kernelspec": {
   "display_name": "Python 3",
   "language": "python",
   "name": "python3"
  },
  "language_info": {
   "codemirror_mode": {
    "name": "ipython",
    "version": 3
   },
   "file_extension": ".py",
   "mimetype": "text/x-python",
   "name": "python",
   "nbconvert_exporter": "python",
   "pygments_lexer": "ipython3",
   "version": "3.6.4"
  }
 },
 "nbformat": 4,
 "nbformat_minor": 2
}
