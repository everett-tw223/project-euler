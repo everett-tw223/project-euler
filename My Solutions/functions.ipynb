{
 "cells": [
  {
   "cell_type": "code",
   "execution_count": 4,
   "metadata": {},
   "outputs": [],
   "source": [
    "import math"
   ]
  },
  {
   "cell_type": "code",
   "execution_count": null,
   "metadata": {},
   "outputs": [],
   "source": [
    "def check_prime(n):\n",
    "    if n==2:\n",
    "        return True\n",
    "    elif n==1:\n",
    "        return False\n",
    "    else:\n",
    "        for i in range(2,math.ceil(math.sqrt(n+1))):\n",
    "            if n%i==0:\n",
    "                return False\n",
    "        return True"
   ]
  },
  {
   "cell_type": "code",
   "execution_count": 34,
   "metadata": {},
   "outputs": [],
   "source": [
    "def lower_factors_of_n(n):\n",
    "    factor_list = []\n",
    "    for i in range(2,math.ceil(math.sqrt(n))):\n",
    "        if n%i==0:\n",
    "            factor_list+=[i]\n",
    "    return factor_list"
   ]
  },
  {
   "cell_type": "code",
   "execution_count": null,
   "metadata": {},
   "outputs": [],
   "source": [
    "def prime_factors_of_n(n):\n",
    "    prime_factors=[]\n",
    "    list1 = lower_factors_of_n(n)\n",
    "    for element in list1:\n",
    "        if check_prime(element)==True:\n",
    "            prime_factors+=[element]\n",
    "    return(prime_factors)"
   ]
  },
  {
   "cell_type": "code",
   "execution_count": 40,
   "metadata": {},
   "outputs": [],
   "source": [
    "def is_palindrome(input1):\n",
    "    alpha=str(input1)\n",
    "    i=0\n",
    "    while i<(len(alpha)/2):\n",
    "        if alpha[i]!=alpha[len(alpha)-(i+1)]:\n",
    "            return False\n",
    "        else:\n",
    "            i+=1\n",
    "    return True"
   ]
  },
  {
   "cell_type": "code",
   "execution_count": 27,
   "metadata": {},
   "outputs": [],
   "source": [
    "def proper_divisors(i):\n",
    "    if i==1:\n",
    "        return [1]\n",
    "    factor_list=[1]\n",
    "    if int(math.sqrt(i))**2==i:\n",
    "        factor_list+=[int(math.sqrt(i))]\n",
    "    for x in range(2,int(math.sqrt(i)+1)):\n",
    "        if i%x==0:\n",
    "            factor_list+=[x]\n",
    "            factor_list+=[int(i/x)]\n",
    "    factor_list = list(set(factor_list))\n",
    "    return sorted(factor_list)"
   ]
  },
  {
   "cell_type": "code",
   "execution_count": null,
   "metadata": {},
   "outputs": [],
   "source": [
    "def prime_factorization(n):\n",
    "    factor_list = []\n",
    "    while check_prime(n)==False:\n",
    "        for i in range(2,math.ceil(math.sqrt(n+1))):\n",
    "            if n%i==0:\n",
    "                factor_list+=[i]\n",
    "                n = int(n/i)\n",
    "                break\n",
    "    factor_list+=[n]\n",
    "    return(factor_list)"
   ]
  },
  {
   "cell_type": "code",
   "execution_count": 41,
   "metadata": {},
   "outputs": [],
   "source": [
    "def divisor_count(input1):\n",
    "    output=0\n",
    "    if int(math.sqrt(input1))**2==input1:\n",
    "        output+=1\n",
    "    i=1\n",
    "    while i<math.sqrt(input1):\n",
    "        if input1%i==0:\n",
    "            output+=2\n",
    "        i+=1\n",
    "    return output"
   ]
  },
  {
   "cell_type": "code",
   "execution_count": null,
   "metadata": {},
   "outputs": [],
   "source": [
    "def generate_triangle_number(input1):\n",
    "    i=1\n",
    "    output = 0\n",
    "    while i<=input1:\n",
    "        output+=i\n",
    "        i+=1\n",
    "    return output"
   ]
  },
  {
   "cell_type": "markdown",
   "metadata": {},
   "source": [
    "# Prime Number Generators"
   ]
  },
  {
   "cell_type": "code",
   "execution_count": 46,
   "metadata": {},
   "outputs": [],
   "source": [
    "import numpy as np"
   ]
  },
  {
   "cell_type": "code",
   "execution_count": 61,
   "metadata": {},
   "outputs": [],
   "source": [
    "def prime_sieve(n):\n",
    "    numbum = np.arange(2,n,1)\n",
    "    listy = numbum.tolist()\n",
    "    x=0\n",
    "    while x < len(listy):\n",
    "        for element in listy:\n",
    "            if element!=listy[x] and element%listy[x]==0:\n",
    "                listy.remove(element)\n",
    "        x+=1\n",
    "    return listy"
   ]
  },
  {
   "cell_type": "code",
   "execution_count": 99,
   "metadata": {},
   "outputs": [
    {
     "ename": "SyntaxError",
     "evalue": "invalid syntax (1237858828.py, line 6)",
     "output_type": "error",
     "traceback": [
      "\u001b[0;36m  File \u001b[0;32m\"/var/folders/xf/666mz97x5576ytl2qh2z6wtm0000gn/T/ipykernel_90226/1237858828.py\"\u001b[0;36m, line \u001b[0;32m6\u001b[0m\n\u001b[0;31m    for element>x in listy:\u001b[0m\n\u001b[0m                          ^\u001b[0m\n\u001b[0;31mSyntaxError\u001b[0m\u001b[0;31m:\u001b[0m invalid syntax\n"
     ]
    }
   ],
   "source": [
    "def prime_sieve(n):\n",
    "    listy = list(range(3,n+1,2))\n",
    "    y = len(listy)\n",
    "    x = 0\n",
    "    while x < y:\n",
    "        for element in listy:\n",
    "            if element!=listy[x] and element%listy[x]==0:\n",
    "                listy.remove(element)\n",
    "                y-=1\n",
    "        x+=1\n",
    "    return [2] + listy"
   ]
  },
  {
   "cell_type": "code",
   "execution_count": 96,
   "metadata": {},
   "outputs": [
    {
     "data": {
      "text/plain": [
       "[2, 3, 4]"
      ]
     },
     "execution_count": 96,
     "metadata": {},
     "output_type": "execute_result"
    }
   ],
   "source": [
    "listy = list(range(2,5))\n",
    "listy"
   ]
  },
  {
   "cell_type": "code",
   "execution_count": 98,
   "metadata": {},
   "outputs": [
    {
     "data": {
      "text/plain": [
       "1229"
      ]
     },
     "execution_count": 98,
     "metadata": {},
     "output_type": "execute_result"
    }
   ],
   "source": [
    "len(prime_sieve(10000))"
   ]
  },
  {
   "cell_type": "code",
   "execution_count": 95,
   "metadata": {},
   "outputs": [
    {
     "data": {
      "text/plain": [
       "[2, 4, 6, 8]"
      ]
     },
     "execution_count": 95,
     "metadata": {},
     "output_type": "execute_result"
    }
   ],
   "source": [
    "np.arange(2,10,2).tolist()"
   ]
  },
  {
   "cell_type": "code",
   "execution_count": 70,
   "metadata": {},
   "outputs": [
    {
     "data": {
      "text/plain": [
       "[2, 4, 6, 8, 10, 12, 14, 16, 18, 20, 22, 24, 26, 28, 30, 32, 34, 36, 38]"
      ]
     },
     "execution_count": 70,
     "metadata": {},
     "output_type": "execute_result"
    }
   ],
   "source": [
    "list(range(2,40,2))"
   ]
  },
  {
   "cell_type": "code",
   "execution_count": null,
   "metadata": {},
   "outputs": [],
   "source": []
  }
 ],
 "metadata": {
  "interpreter": {
   "hash": "aee8b7b246df8f9039afb4144a1f6fd8d2ca17a180786b69acc140d282b71a49"
  },
  "kernelspec": {
   "display_name": "Python 3.9.9 64-bit",
   "language": "python",
   "name": "python3"
  },
  "language_info": {
   "codemirror_mode": {
    "name": "ipython",
    "version": 3
   },
   "file_extension": ".py",
   "mimetype": "text/x-python",
   "name": "python",
   "nbconvert_exporter": "python",
   "pygments_lexer": "ipython3",
   "version": "3.9.9"
  },
  "orig_nbformat": 4
 },
 "nbformat": 4,
 "nbformat_minor": 2
}
