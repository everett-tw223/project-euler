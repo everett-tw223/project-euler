{
 "cells": [
  {
   "cell_type": "code",
   "execution_count": 4,
   "metadata": {},
   "outputs": [],
   "source": [
    "import math\n",
    "import numpy as np\n",
    "from numpy import linalg"
   ]
  },
  {
   "cell_type": "code",
   "execution_count": 5,
   "metadata": {},
   "outputs": [],
   "source": [
    "smalltri = '\\\n",
    "75 \\\n",
    "95 64 \\\n",
    "17 47 82 \\\n",
    "18 35 87 10 \\\n",
    "20 04 82 47 65 \\\n",
    "19 01 23 75 03 34 \\\n",
    "88 02 77 73 07 63 67 \\\n",
    "99 65 04 28 06 16 70 92 \\\n",
    "41 41 26 56 83 40 80 70 33 \\\n",
    "41 48 72 33 47 32 37 16 94 29 \\\n",
    "53 71 44 65 25 43 91 52 97 51 14 \\\n",
    "70 11 33 28 77 73 17 78 39 68 17 57 \\\n",
    "91 71 52 38 17 14 91 43 58 50 27 29 48 \\\n",
    "63 66 04 68 89 53 67 30 73 16 69 87 40 31 \\\n",
    "04 62 98 27 23 09 70 98 73 93 38 53 60 04 23 '"
   ]
  },
  {
   "cell_type": "code",
   "execution_count": 6,
   "metadata": {},
   "outputs": [],
   "source": [
    "tinytri = '\\\n",
    "3 \\\n",
    "7 4 \\\n",
    "2 4 6 \\\n",
    "8 5 9 3 '"
   ]
  },
  {
   "cell_type": "code",
   "execution_count": 7,
   "metadata": {},
   "outputs": [
    {
     "name": "stdout",
     "output_type": "stream",
     "text": [
      "360\n"
     ]
    }
   ],
   "source": [
    "print(len(smalltri))"
   ]
  },
  {
   "cell_type": "code",
   "execution_count": 8,
   "metadata": {},
   "outputs": [
    {
     "name": "stdout",
     "output_type": "stream",
     "text": [
      "120\n",
      "23\n"
     ]
    }
   ],
   "source": [
    "#I'm less worried about finding an efficient algorithm than putting the 100 row .txt file into a variable\n",
    "x = 0\n",
    "listy =[]\n",
    "while x <= len(smalltri)-3:\n",
    "    listy += [int(smalltri[x:x+3])]\n",
    "    x+=3\n",
    "print(len(listy))\n",
    "print(listy[len(listy)-1])"
   ]
  },
  {
   "cell_type": "code",
   "execution_count": 10,
   "metadata": {},
   "outputs": [
    {
     "name": "stdout",
     "output_type": "stream",
     "text": [
      "[[0 0 0 0 0 0 0 0 0 0 0 0 0 0 0]\n",
      " [0 0 0 0 0 0 0 0 0 0 0 0 0 0 0]\n",
      " [0 0 0 0 0 0 0 0 0 0 0 0 0 0 0]\n",
      " [0 0 0 0 0 0 0 0 0 0 0 0 0 0 0]\n",
      " [0 0 0 0 0 0 0 0 0 0 0 0 0 0 0]\n",
      " [0 0 0 0 0 0 0 0 0 0 0 0 0 0 0]\n",
      " [0 0 0 0 0 0 0 0 0 0 0 0 0 0 0]\n",
      " [0 0 0 0 0 0 0 0 0 0 0 0 0 0 0]\n",
      " [0 0 0 0 0 0 0 0 0 0 0 0 0 0 0]\n",
      " [0 0 0 0 0 0 0 0 0 0 0 0 0 0 0]\n",
      " [0 0 0 0 0 0 0 0 0 0 0 0 0 0 0]\n",
      " [0 0 0 0 0 0 0 0 0 0 0 0 0 0 0]\n",
      " [0 0 0 0 0 0 0 0 0 0 0 0 0 0 0]\n",
      " [0 0 0 0 0 0 0 0 0 0 0 0 0 0 0]\n",
      " [0 0 0 0 0 0 0 0 0 0 0 0 0 0 0]]\n"
     ]
    }
   ],
   "source": [
    "smalltri1 = np.zeros((15,15), dtype = int)\n",
    "print(smalltri1)"
   ]
  },
  {
   "cell_type": "code",
   "execution_count": 11,
   "metadata": {
    "scrolled": true
   },
   "outputs": [
    {
     "name": "stdout",
     "output_type": "stream",
     "text": [
      "[[75  0  0  0  0  0  0  0  0  0  0  0  0  0  0]\n",
      " [95 64  0  0  0  0  0  0  0  0  0  0  0  0  0]\n",
      " [17 47 82  0  0  0  0  0  0  0  0  0  0  0  0]\n",
      " [18 35 87 10  0  0  0  0  0  0  0  0  0  0  0]\n",
      " [20  4 82 47 65  0  0  0  0  0  0  0  0  0  0]\n",
      " [19  1 23 75  3 34  0  0  0  0  0  0  0  0  0]\n",
      " [88  2 77 73  7 63 67  0  0  0  0  0  0  0  0]\n",
      " [99 65  4 28  6 16 70 92  0  0  0  0  0  0  0]\n",
      " [41 41 26 56 83 40 80 70 33  0  0  0  0  0  0]\n",
      " [41 48 72 33 47 32 37 16 94 29  0  0  0  0  0]\n",
      " [53 71 44 65 25 43 91 52 97 51 14  0  0  0  0]\n",
      " [70 11 33 28 77 73 17 78 39 68 17 57  0  0  0]\n",
      " [91 71 52 38 17 14 91 43 58 50 27 29 48  0  0]\n",
      " [63 66  4 68 89 53 67 30 73 16 69 87 40 31  0]\n",
      " [ 4 62 98 27 23  9 70 98 73 93 38 53 60  4 23]]\n"
     ]
    }
   ],
   "source": [
    "x = 0\n",
    "for i in range(0,15):\n",
    "    for j in range (0,i+1):\n",
    "        smalltri1[i,j] = listy[x]\n",
    "        x+=1\n",
    "print(smalltri1)"
   ]
  },
  {
   "cell_type": "markdown",
   "metadata": {},
   "source": [
    "i suppose the way to go about this is by improving\n",
    "I need the answer to check if clever methods work so I guess a brute force method is a good control\n",
    "There was already a problem regarding the number of possible paths down a triangle, I'd do well to remember my logic\n",
    "I know that I am looking at a series of binary choices\n",
    "2^14\n",
    "I can think of infinitely many ways to make it more likely to find a good path. However I can't think of any to guarantee that greatest path.\n"
   ]
  },
  {
   "cell_type": "code",
   "execution_count": 16,
   "metadata": {},
   "outputs": [
    {
     "name": "stdout",
     "output_type": "stream",
     "text": [
      "Number of possible paths: 16384\n",
      "Imagine an array of length fourteen each entry of which can contain a 1 or 0\n"
     ]
    }
   ],
   "source": [
    "print('Number of possible paths:',2**14)\n",
    "print('Imagine an array of length fourteen each entry of which can contain a 1 or 0')"
   ]
  },
  {
   "cell_type": "code",
   "execution_count": 36,
   "metadata": {},
   "outputs": [],
   "source": [
    "def binarraygenerator(n):\n",
    "    binarr = np.zeros(14,dtype=int)\n",
    "    i = 0\n",
    "    while n > 2**i:\n",
    "        i+=1\n",
    "    while i > -1:\n",
    "        if n >= 2**i:\n",
    "            binarr[-i-1]=1\n",
    "            n = n-(2**i)\n",
    "        i-=1\n",
    "    return binarr"
   ]
  },
  {
   "cell_type": "code",
   "execution_count": 43,
   "metadata": {},
   "outputs": [
    {
     "name": "stdout",
     "output_type": "stream",
     "text": [
      "[0 0 0 1 0 0 0 0 1 1 0 0 1 0]\n"
     ]
    }
   ],
   "source": [
    "print(binarraygenerator(1074))"
   ]
  },
  {
   "cell_type": "code",
   "execution_count": 67,
   "metadata": {},
   "outputs": [],
   "source": [
    "greatestsum = 0\n",
    "bestarr= np.empty(15,dtype=int)\n",
    "binarr = np.empty(14,dtype=int)"
   ]
  },
  {
   "cell_type": "code",
   "execution_count": 70,
   "metadata": {},
   "outputs": [
    {
     "name": "stdout",
     "output_type": "stream",
     "text": [
      "Answer to problem 18: 1074\n"
     ]
    }
   ],
   "source": [
    "for i in range (0,2**14-1):\n",
    "    currarr = np.zeros(15,dtype=int)\n",
    "    currarr[0]=75\n",
    "    x = binarraygenerator(i)\n",
    "    k = 0\n",
    "    for j in range(1,15):\n",
    "        k+= x[j-1]\n",
    "        currarr[j] = smalltri1[j,k]\n",
    "    if sum(currarr)>greatestsum:\n",
    "        greatestsum = sum(currarr)\n",
    "        bestarr[:]=currarr\n",
    "        binarr[:]=x\n",
    "print('Answer to problem 18:', greatestsum)"
   ]
  },
  {
   "cell_type": "code",
   "execution_count": 69,
   "metadata": {},
   "outputs": [
    {
     "name": "stdout",
     "output_type": "stream",
     "text": [
      "1485\n",
      "[75 64 82 87 82 75 73 28 83 32 91 78 58 73 93]\n",
      "13\n",
      "[1 1 0 0 1 0 0 1 1 1 1 1 0 1]\n"
     ]
    }
   ],
   "source": [
    "print(15*99)\n",
    "print(bestarr)\n",
    "print(k)\n",
    "print(binarr)"
   ]
  },
  {
   "cell_type": "code",
   "execution_count": 58,
   "metadata": {},
   "outputs": [
    {
     "name": "stdout",
     "output_type": "stream",
     "text": [
      "[4 5 6]\n"
     ]
    }
   ],
   "source": [
    "arr1 = np.array([1,2,3])\n",
    "arr2 = arr1\n",
    "arr2 +=3\n",
    "print (arr1)"
   ]
  }
 ],
 "metadata": {
  "kernelspec": {
   "display_name": "Python 3",
   "language": "python",
   "name": "python3"
  },
  "language_info": {
   "codemirror_mode": {
    "name": "ipython",
    "version": 3
   },
   "file_extension": ".py",
   "mimetype": "text/x-python",
   "name": "python",
   "nbconvert_exporter": "python",
   "pygments_lexer": "ipython3",
   "version": "3.6.4"
  }
 },
 "nbformat": 4,
 "nbformat_minor": 2
}
